{
 "cells": [
  {
   "cell_type": "code",
   "execution_count": 1,
   "id": "af2204de",
   "metadata": {},
   "outputs": [],
   "source": [
    "# importing required libraries\n",
    "import pandas as pd\n",
    "import numpy as np\n",
    "import matplotlib.pyplot as plt\n",
    "import seaborn as sns\n",
    "%matplotlib inline"
   ]
  },
  {
   "cell_type": "code",
   "execution_count": 2,
   "id": "42bfeb86",
   "metadata": {},
   "outputs": [
    {
     "data": {
      "text/html": [
       "<div>\n",
       "<style scoped>\n",
       "    .dataframe tbody tr th:only-of-type {\n",
       "        vertical-align: middle;\n",
       "    }\n",
       "\n",
       "    .dataframe tbody tr th {\n",
       "        vertical-align: top;\n",
       "    }\n",
       "\n",
       "    .dataframe thead th {\n",
       "        text-align: right;\n",
       "    }\n",
       "</style>\n",
       "<table border=\"1\" class=\"dataframe\">\n",
       "  <thead>\n",
       "    <tr style=\"text-align: right;\">\n",
       "      <th></th>\n",
       "      <th>date</th>\n",
       "      <th>price</th>\n",
       "    </tr>\n",
       "  </thead>\n",
       "  <tbody>\n",
       "    <tr>\n",
       "      <th>0</th>\n",
       "      <td>2016-01-01</td>\n",
       "      <td>2252.60</td>\n",
       "    </tr>\n",
       "    <tr>\n",
       "      <th>1</th>\n",
       "      <td>2016-01-02</td>\n",
       "      <td>2454.50</td>\n",
       "    </tr>\n",
       "    <tr>\n",
       "      <th>2</th>\n",
       "      <td>2016-01-03</td>\n",
       "      <td>2708.10</td>\n",
       "    </tr>\n",
       "    <tr>\n",
       "      <th>3</th>\n",
       "      <td>2016-01-04</td>\n",
       "      <td>2577.80</td>\n",
       "    </tr>\n",
       "    <tr>\n",
       "      <th>4</th>\n",
       "      <td>2016-01-05</td>\n",
       "      <td>2597.75</td>\n",
       "    </tr>\n",
       "  </tbody>\n",
       "</table>\n",
       "</div>"
      ],
      "text/plain": [
       "         date    price\n",
       "0  2016-01-01  2252.60\n",
       "1  2016-01-02  2454.50\n",
       "2  2016-01-03  2708.10\n",
       "3  2016-01-04  2577.80\n",
       "4  2016-01-05  2597.75"
      ]
     },
     "execution_count": 2,
     "metadata": {},
     "output_type": "execute_result"
    }
   ],
   "source": [
    "#importing dataset\n",
    "df=pd.read_csv(\"Gold-data.csv\")\n",
    "df.head()"
   ]
  },
  {
   "cell_type": "markdown",
   "id": "dd4c9ba3",
   "metadata": {},
   "source": [
    "### Checking for duplicates"
   ]
  },
  {
   "cell_type": "code",
   "execution_count": 3,
   "id": "98c4b2c0",
   "metadata": {},
   "outputs": [
    {
     "data": {
      "text/plain": [
       "0"
      ]
     },
     "execution_count": 3,
     "metadata": {},
     "output_type": "execute_result"
    }
   ],
   "source": [
    "df.duplicated().sum()"
   ]
  },
  {
   "cell_type": "code",
   "execution_count": 4,
   "id": "84536a12",
   "metadata": {},
   "outputs": [
    {
     "data": {
      "text/plain": [
       "0"
      ]
     },
     "execution_count": 4,
     "metadata": {},
     "output_type": "execute_result"
    }
   ],
   "source": [
    "df.date.duplicated().sum()"
   ]
  },
  {
   "cell_type": "code",
   "execution_count": 5,
   "id": "eb3870a0",
   "metadata": {},
   "outputs": [
    {
     "data": {
      "text/plain": [
       "<AxesSubplot:xlabel='price'>"
      ]
     },
     "execution_count": 5,
     "metadata": {},
     "output_type": "execute_result"
    },
    {
     "data": {
      "image/png": "[encoded data removed]",
      "text/plain": [
       "<Figure size 432x288 with 1 Axes>"
      ]
     },
     "metadata": {
      "needs_background": "light"
     },
     "output_type": "display_data"
    }
   ],
   "source": [
    "import warnings\n",
    "warnings.filterwarnings('ignore')\n",
    "sns.boxplot(df[\"price\"])"
   ]
  },
  {
   "cell_type": "code",
   "execution_count": 6,
   "id": "a3791394",
   "metadata": {},
   "outputs": [
    {
     "data": {
      "text/html": [
       "<div>\n",
       "<style scoped>\n",
       "    .dataframe tbody tr th:only-of-type {\n",
       "        vertical-align: middle;\n",
       "    }\n",
       "\n",
       "    .dataframe tbody tr th {\n",
       "        vertical-align: top;\n",
       "    }\n",
       "\n",
       "    .dataframe thead th {\n",
       "        text-align: right;\n",
       "    }\n",
       "</style>\n",
       "<table border=\"1\" class=\"dataframe\">\n",
       "  <thead>\n",
       "    <tr style=\"text-align: right;\">\n",
       "      <th></th>\n",
       "      <th>date</th>\n",
       "      <th>price</th>\n",
       "    </tr>\n",
       "  </thead>\n",
       "  <tbody>\n",
       "    <tr>\n",
       "      <th>0</th>\n",
       "      <td>2016-01-01</td>\n",
       "      <td>2252.60</td>\n",
       "    </tr>\n",
       "    <tr>\n",
       "      <th>1</th>\n",
       "      <td>2016-01-02</td>\n",
       "      <td>2454.50</td>\n",
       "    </tr>\n",
       "    <tr>\n",
       "      <th>2</th>\n",
       "      <td>2016-01-03</td>\n",
       "      <td>2708.10</td>\n",
       "    </tr>\n",
       "    <tr>\n",
       "      <th>3</th>\n",
       "      <td>2016-01-04</td>\n",
       "      <td>2577.80</td>\n",
       "    </tr>\n",
       "    <tr>\n",
       "      <th>4</th>\n",
       "      <td>2016-01-05</td>\n",
       "      <td>2597.75</td>\n",
       "    </tr>\n",
       "  </tbody>\n",
       "</table>\n",
       "</div>"
      ],
      "text/plain": [
       "         date    price\n",
       "0  2016-01-01  2252.60\n",
       "1  2016-01-02  2454.50\n",
       "2  2016-01-03  2708.10\n",
       "3  2016-01-04  2577.80\n",
       "4  2016-01-05  2597.75"
      ]
     },
     "execution_count": 6,
     "metadata": {},
     "output_type": "execute_result"
    }
   ],
   "source": [
    "#making copy \n",
    "df_1=df.copy()\n",
    "df_1.head()"
   ]
  },
  {
   "cell_type": "code",
   "execution_count": 7,
   "id": "1a8f2e6e",
   "metadata": {},
   "outputs": [
    {
     "data": {
      "text/html": [
       "<div>\n",
       "<style scoped>\n",
       "    .dataframe tbody tr th:only-of-type {\n",
       "        vertical-align: middle;\n",
       "    }\n",
       "\n",
       "    .dataframe tbody tr th {\n",
       "        vertical-align: top;\n",
       "    }\n",
       "\n",
       "    .dataframe thead th {\n",
       "        text-align: right;\n",
       "    }\n",
       "</style>\n",
       "<table border=\"1\" class=\"dataframe\">\n",
       "  <thead>\n",
       "    <tr style=\"text-align: right;\">\n",
       "      <th></th>\n",
       "      <th>date</th>\n",
       "      <th>price</th>\n",
       "    </tr>\n",
       "  </thead>\n",
       "  <tbody>\n",
       "    <tr>\n",
       "      <th>0</th>\n",
       "      <td>2016-01-01</td>\n",
       "      <td>2252.60</td>\n",
       "    </tr>\n",
       "    <tr>\n",
       "      <th>1</th>\n",
       "      <td>2016-01-02</td>\n",
       "      <td>2454.50</td>\n",
       "    </tr>\n",
       "    <tr>\n",
       "      <th>2</th>\n",
       "      <td>2016-01-03</td>\n",
       "      <td>2708.10</td>\n",
       "    </tr>\n",
       "    <tr>\n",
       "      <th>3</th>\n",
       "      <td>2016-01-04</td>\n",
       "      <td>2577.80</td>\n",
       "    </tr>\n",
       "    <tr>\n",
       "      <th>4</th>\n",
       "      <td>2016-01-05</td>\n",
       "      <td>2597.75</td>\n",
       "    </tr>\n",
       "  </tbody>\n",
       "</table>\n",
       "</div>"
      ],
      "text/plain": [
       "        date    price\n",
       "0 2016-01-01  2252.60\n",
       "1 2016-01-02  2454.50\n",
       "2 2016-01-03  2708.10\n",
       "3 2016-01-04  2577.80\n",
       "4 2016-01-05  2597.75"
      ]
     },
     "execution_count": 7,
     "metadata": {},
     "output_type": "execute_result"
    }
   ],
   "source": [
    "import datetime as dt\n",
    "df_1['date'] = pd.to_datetime(df_1['date'])\n",
    "df_1.head()"
   ]
  },
  {
   "cell_type": "code",
   "execution_count": 8,
   "id": "cda03df8",
   "metadata": {},
   "outputs": [
    {
     "name": "stdout",
     "output_type": "stream",
     "text": [
      "<class 'pandas.core.frame.DataFrame'>\n",
      "RangeIndex: 2182 entries, 0 to 2181\n",
      "Data columns (total 2 columns):\n",
      " #   Column  Non-Null Count  Dtype         \n",
      "---  ------  --------------  -----         \n",
      " 0   date    2182 non-null   datetime64[ns]\n",
      " 1   price   2182 non-null   float64       \n",
      "dtypes: datetime64[ns](1), float64(1)\n",
      "memory usage: 34.2 KB\n"
     ]
    }
   ],
   "source": [
    "df_1.info()"
   ]
  },
  {
   "cell_type": "code",
   "execution_count": 9,
   "id": "e1ac8d86",
   "metadata": {},
   "outputs": [
    {
     "data": {
      "text/plain": [
       "<AxesSubplot:xlabel='date'>"
      ]
     },
     "execution_count": 9,
     "metadata": {},
     "output_type": "execute_result"
    },
    {
     "data": {
      "image/png": "[encoded data removed]",
      "text/plain": [
       "<Figure size 864x288 with 1 Axes>"
      ]
     },
     "metadata": {
      "needs_background": "light"
     },
     "output_type": "display_data"
    }
   ],
   "source": [
    "df_1.plot(\"date\", \"price\",figsize=(12,4))"
   ]
  },
  {
   "cell_type": "code",
   "execution_count": null,
   "id": "e5638f1c",
   "metadata": {},
   "outputs": [],
   "source": []
  },
  {
   "cell_type": "markdown",
   "id": "2ec2a6f9",
   "metadata": {},
   "source": [
    "### Graph Showing gold price for year 2016"
   ]
  },
  {
   "cell_type": "code",
   "execution_count": 10,
   "id": "be77c62b",
   "metadata": {},
   "outputs": [
    {
     "data": {
      "text/plain": [
       "<AxesSubplot:xlabel='date'>"
      ]
     },
     "execution_count": 10,
     "metadata": {},
     "output_type": "execute_result"
    },
    {
     "data": {
      "image/png": "[encoded data removed]",
      "text/plain": [
       "<Figure size 864x288 with 1 Axes>"
      ]
     },
     "metadata": {
      "needs_background": "light"
     },
     "output_type": "display_data"
    }
   ],
   "source": [
    "df_1.plot(\"date\", \"price\",xlim=['2016-01-01','2016-12-31'],ylim=[0,5000],figsize=(12,4))"
   ]
  },
  {
   "cell_type": "markdown",
   "id": "e7ec2896",
   "metadata": {},
   "source": [
    "### Graph Showing gold price for year 2017"
   ]
  },
  {
   "cell_type": "code",
   "execution_count": 11,
   "id": "59d2858f",
   "metadata": {},
   "outputs": [
    {
     "data": {
      "text/plain": [
       "<AxesSubplot:xlabel='date'>"
      ]
     },
     "execution_count": 11,
     "metadata": {},
     "output_type": "execute_result"
    },
    {
     "data": {
      "image/png": "[encoded data removed]",
      "text/plain": [
       "<Figure size 864x288 with 1 Axes>"
      ]
     },
     "metadata": {
      "needs_background": "light"
     },
     "output_type": "display_data"
    }
   ],
   "source": [
    "df_1.plot(\"date\", \"price\",xlim=['2017-01-01','2017-12-31'],ylim=[0,5000],figsize=(12,4))"
   ]
  },
  {
   "cell_type": "markdown",
   "id": "54d13bf2",
   "metadata": {},
   "source": [
    "### Graph Showing gold price for year 2018"
   ]
  },
  {
   "cell_type": "code",
   "execution_count": 12,
   "id": "bd613ba7",
   "metadata": {},
   "outputs": [
    {
     "data": {
      "text/plain": [
       "<AxesSubplot:xlabel='date'>"
      ]
     },
     "execution_count": 12,
     "metadata": {},
     "output_type": "execute_result"
    },
    {
     "data": {
      "image/png": "[encoded data removed]",
      "text/plain": [
       "<Figure size 864x288 with 1 Axes>"
      ]
     },
     "metadata": {
      "needs_background": "light"
     },
     "output_type": "display_data"
    }
   ],
   "source": [
    "df_1.plot(\"date\", \"price\",xlim=['2018-01-01','2018-12-31'],ylim=[0,5000],figsize=(12,4))"
   ]
  },
  {
   "cell_type": "markdown",
   "id": "a5a655b1",
   "metadata": {},
   "source": [
    "### Graph Showing gold price for year 2019"
   ]
  },
  {
   "cell_type": "code",
   "execution_count": 13,
   "id": "3c30d935",
   "metadata": {},
   "outputs": [
    {
     "data": {
      "text/plain": [
       "<AxesSubplot:xlabel='date'>"
      ]
     },
     "execution_count": 13,
     "metadata": {},
     "output_type": "execute_result"
    },
    {
     "data": {
      "image/png": "[encoded data removed]",
      "text/plain": [
       "<Figure size 864x288 with 1 Axes>"
      ]
     },
     "metadata": {
      "needs_background": "light"
     },
     "output_type": "display_data"
    }
   ],
   "source": [
    "df_1.plot(\"date\", \"price\",xlim=['2019-01-01','2019-12-31'],ylim=[0,5000],figsize=(12,4))"
   ]
  },
  {
   "cell_type": "markdown",
   "id": "52bf4966",
   "metadata": {},
   "source": [
    "### Graph Showing gold price for year 2020"
   ]
  },
  {
   "cell_type": "code",
   "execution_count": 14,
   "id": "00940444",
   "metadata": {},
   "outputs": [
    {
     "data": {
      "text/plain": [
       "<AxesSubplot:xlabel='date'>"
      ]
     },
     "execution_count": 14,
     "metadata": {},
     "output_type": "execute_result"
    },
    {
     "data": {
      "image/png": "[encoded data removed]",
      "text/plain": [
       "<Figure size 864x288 with 1 Axes>"
      ]
     },
     "metadata": {
      "needs_background": "light"
     },
     "output_type": "display_data"
    }
   ],
   "source": [
    "df_1.plot(\"date\", \"price\",xlim=['2020-01-01','2020-12-31'],ylim=[0,5000],figsize=(12,4))"
   ]
  },
  {
   "cell_type": "markdown",
   "id": "2a3cc949",
   "metadata": {},
   "source": [
    "### Graph Showing gold price for year 2021"
   ]
  },
  {
   "cell_type": "code",
   "execution_count": 15,
   "id": "8865e8a4",
   "metadata": {},
   "outputs": [
    {
     "data": {
      "text/plain": [
       "<AxesSubplot:xlabel='date'>"
      ]
     },
     "execution_count": 15,
     "metadata": {},
     "output_type": "execute_result"
    },
    {
     "data": {
      "image/png": "[encoded data removed]",
      "text/plain": [
       "<Figure size 864x288 with 1 Axes>"
      ]
     },
     "metadata": {
      "needs_background": "light"
     },
     "output_type": "display_data"
    }
   ],
   "source": [
    "df_1.plot(\"date\", \"price\",xlim=['2021-01-01','2021-12-31'],ylim=[0,5000],figsize=(12,4))"
   ]
  },
  {
   "cell_type": "markdown",
   "id": "e241ae10",
   "metadata": {},
   "source": [
    "### Barplot showing goldprice yearly"
   ]
  },
  {
   "cell_type": "code",
   "execution_count": 16,
   "id": "bfcd9a00",
   "metadata": {},
   "outputs": [
    {
     "data": {
      "text/html": [
       "<div>\n",
       "<style scoped>\n",
       "    .dataframe tbody tr th:only-of-type {\n",
       "        vertical-align: middle;\n",
       "    }\n",
       "\n",
       "    .dataframe tbody tr th {\n",
       "        vertical-align: top;\n",
       "    }\n",
       "\n",
       "    .dataframe thead th {\n",
       "        text-align: right;\n",
       "    }\n",
       "</style>\n",
       "<table border=\"1\" class=\"dataframe\">\n",
       "  <thead>\n",
       "    <tr style=\"text-align: right;\">\n",
       "      <th></th>\n",
       "      <th>price</th>\n",
       "    </tr>\n",
       "    <tr>\n",
       "      <th>date</th>\n",
       "      <th></th>\n",
       "    </tr>\n",
       "  </thead>\n",
       "  <tbody>\n",
       "    <tr>\n",
       "      <th>2016-12-31</th>\n",
       "      <td>2690.614162</td>\n",
       "    </tr>\n",
       "    <tr>\n",
       "      <th>2017-12-31</th>\n",
       "      <td>2626.676484</td>\n",
       "    </tr>\n",
       "    <tr>\n",
       "      <th>2018-12-31</th>\n",
       "      <td>2781.938082</td>\n",
       "    </tr>\n",
       "    <tr>\n",
       "      <th>2019-12-31</th>\n",
       "      <td>3150.210685</td>\n",
       "    </tr>\n",
       "    <tr>\n",
       "      <th>2020-12-31</th>\n",
       "      <td>4216.378689</td>\n",
       "    </tr>\n",
       "    <tr>\n",
       "      <th>2021-12-31</th>\n",
       "      <td>4266.871549</td>\n",
       "    </tr>\n",
       "  </tbody>\n",
       "</table>\n",
       "</div>"
      ],
      "text/plain": [
       "                  price\n",
       "date                   \n",
       "2016-12-31  2690.614162\n",
       "2017-12-31  2626.676484\n",
       "2018-12-31  2781.938082\n",
       "2019-12-31  3150.210685\n",
       "2020-12-31  4216.378689\n",
       "2021-12-31  4266.871549"
      ]
     },
     "execution_count": 16,
     "metadata": {},
     "output_type": "execute_result"
    }
   ],
   "source": [
    "df_yearwise=df_1.groupby(pd.Grouper(key='date',freq='Y')).mean()\n",
    "df_yearwise"
   ]
  },
  {
   "cell_type": "code",
   "execution_count": 17,
   "id": "f9d457c9",
   "metadata": {},
   "outputs": [
    {
     "data": {
      "text/plain": [
       "DatetimeIndex(['2016-12-31', '2017-12-31', '2018-12-31', '2019-12-31',\n",
       "               '2020-12-31', '2021-12-31'],\n",
       "              dtype='datetime64[ns]', name='date', freq='A-DEC')"
      ]
     },
     "execution_count": 17,
     "metadata": {},
     "output_type": "execute_result"
    }
   ],
   "source": [
    "df_yearwise.index"
   ]
  },
  {
   "cell_type": "code",
   "execution_count": 18,
   "id": "a333c8c4",
   "metadata": {},
   "outputs": [
    {
     "data": {
      "text/plain": [
       "Int64Index([2016, 2017, 2018, 2019, 2020, 2021], dtype='int64', name='date')"
      ]
     },
     "execution_count": 18,
     "metadata": {},
     "output_type": "execute_result"
    }
   ],
   "source": [
    "df_yearwise.index.year"
   ]
  },
  {
   "cell_type": "code",
   "execution_count": 19,
   "id": "a7ab779f",
   "metadata": {},
   "outputs": [
    {
     "data": {
      "text/plain": [
       "Index(['price'], dtype='object')"
      ]
     },
     "execution_count": 19,
     "metadata": {},
     "output_type": "execute_result"
    }
   ],
   "source": [
    "df_yearwise.columns"
   ]
  },
  {
   "cell_type": "code",
   "execution_count": 20,
   "id": "f009aaf2",
   "metadata": {},
   "outputs": [
    {
     "data": {
      "text/plain": [
       "<AxesSubplot:xlabel='date', ylabel='price'>"
      ]
     },
     "execution_count": 20,
     "metadata": {},
     "output_type": "execute_result"
    },
    {
     "data": {
      "image/png": "[encoded data removed]",
      "text/plain": [
       "<Figure size 432x288 with 1 Axes>"
      ]
     },
     "metadata": {
      "needs_background": "light"
     },
     "output_type": "display_data"
    }
   ],
   "source": [
    "sns.barplot(x=df_yearwise.index.year,y=df_yearwise.price)"
   ]
  },
  {
   "cell_type": "markdown",
   "id": "0ff05a20",
   "metadata": {},
   "source": [
    "### Barplot showing goldprice monthly"
   ]
  },
  {
   "cell_type": "code",
   "execution_count": 21,
   "id": "70c2bbe4",
   "metadata": {},
   "outputs": [
    {
     "data": {
      "text/html": [
       "<div>\n",
       "<style scoped>\n",
       "    .dataframe tbody tr th:only-of-type {\n",
       "        vertical-align: middle;\n",
       "    }\n",
       "\n",
       "    .dataframe tbody tr th {\n",
       "        vertical-align: top;\n",
       "    }\n",
       "\n",
       "    .dataframe thead th {\n",
       "        text-align: right;\n",
       "    }\n",
       "</style>\n",
       "<table border=\"1\" class=\"dataframe\">\n",
       "  <thead>\n",
       "    <tr style=\"text-align: right;\">\n",
       "      <th></th>\n",
       "      <th>price</th>\n",
       "    </tr>\n",
       "    <tr>\n",
       "      <th>date</th>\n",
       "      <th></th>\n",
       "    </tr>\n",
       "  </thead>\n",
       "  <tbody>\n",
       "    <tr>\n",
       "      <th>2016-01-31</th>\n",
       "      <td>2495.832258</td>\n",
       "    </tr>\n",
       "    <tr>\n",
       "      <th>2016-02-29</th>\n",
       "      <td>2688.703448</td>\n",
       "    </tr>\n",
       "    <tr>\n",
       "      <th>2016-03-31</th>\n",
       "      <td>2682.854839</td>\n",
       "    </tr>\n",
       "    <tr>\n",
       "      <th>2016-04-30</th>\n",
       "      <td>2677.790000</td>\n",
       "    </tr>\n",
       "    <tr>\n",
       "      <th>2016-05-31</th>\n",
       "      <td>2677.650000</td>\n",
       "    </tr>\n",
       "  </tbody>\n",
       "</table>\n",
       "</div>"
      ],
      "text/plain": [
       "                  price\n",
       "date                   \n",
       "2016-01-31  2495.832258\n",
       "2016-02-29  2688.703448\n",
       "2016-03-31  2682.854839\n",
       "2016-04-30  2677.790000\n",
       "2016-05-31  2677.650000"
      ]
     },
     "execution_count": 21,
     "metadata": {},
     "output_type": "execute_result"
    }
   ],
   "source": [
    "df_monthwise=df_1.groupby(pd.Grouper(key='date',freq='M')).mean()\n",
    "df_monthwise.head()"
   ]
  },
  {
   "cell_type": "code",
   "execution_count": 22,
   "id": "5e7ed9b8",
   "metadata": {},
   "outputs": [
    {
     "data": {
      "text/plain": [
       "DatetimeIndex(['2016-01-31', '2016-02-29', '2016-03-31', '2016-04-30',\n",
       "               '2016-05-31', '2016-06-30', '2016-07-31', '2016-08-31',\n",
       "               '2016-09-30', '2016-10-31', '2016-11-30', '2016-12-31',\n",
       "               '2017-01-31', '2017-02-28', '2017-03-31', '2017-04-30',\n",
       "               '2017-05-31', '2017-06-30', '2017-07-31', '2017-08-31',\n",
       "               '2017-09-30', '2017-10-31', '2017-11-30', '2017-12-31',\n",
       "               '2018-01-31', '2018-02-28', '2018-03-31', '2018-04-30',\n",
       "               '2018-05-31', '2018-06-30', '2018-07-31', '2018-08-31',\n",
       "               '2018-09-30', '2018-10-31', '2018-11-30', '2018-12-31',\n",
       "               '2019-01-31', '2019-02-28', '2019-03-31', '2019-04-30',\n",
       "               '2019-05-31', '2019-06-30', '2019-07-31', '2019-08-31',\n",
       "               '2019-09-30', '2019-10-31', '2019-11-30', '2019-12-31',\n",
       "               '2020-01-31', '2020-02-29', '2020-03-31', '2020-04-30',\n",
       "               '2020-05-31', '2020-06-30', '2020-07-31', '2020-08-31',\n",
       "               '2020-09-30', '2020-10-31', '2020-11-30', '2020-12-31',\n",
       "               '2021-01-31', '2021-02-28', '2021-03-31', '2021-04-30',\n",
       "               '2021-05-31', '2021-06-30', '2021-07-31', '2021-08-31',\n",
       "               '2021-09-30', '2021-10-31', '2021-11-30', '2021-12-31'],\n",
       "              dtype='datetime64[ns]', name='date', freq='M')"
      ]
     },
     "execution_count": 22,
     "metadata": {},
     "output_type": "execute_result"
    }
   ],
   "source": [
    "df_monthwise.index"
   ]
  },
  {
   "cell_type": "code",
   "execution_count": 23,
   "id": "6529b44a",
   "metadata": {},
   "outputs": [
    {
     "data": {
      "image/png": "[encoded data removed]",
      "text/plain": [
       "<Figure size 2160x720 with 1 Axes>"
      ]
     },
     "metadata": {
      "needs_background": "light"
     },
     "output_type": "display_data"
    }
   ],
   "source": [
    "plt.figure(figsize=(30,10))\n",
    "g=sns.barplot(x=df_monthwise.index,y=df_monthwise.price)\n",
    "g.set_xticklabels(\n",
    "    labels=df_monthwise.index, rotation=90)\n",
    "plt.show()"
   ]
  },
  {
   "cell_type": "code",
   "execution_count": null,
   "id": "d9e66d91",
   "metadata": {},
   "outputs": [],
   "source": []
  },
  {
   "cell_type": "code",
   "execution_count": null,
   "id": "df159ba0",
   "metadata": {},
   "outputs": [],
   "source": []
  },
  {
   "cell_type": "code",
   "execution_count": null,
   "id": "d672be70",
   "metadata": {},
   "outputs": [],
   "source": []
  },
  {
   "cell_type": "code",
   "execution_count": null,
   "id": "137f0d23",
   "metadata": {},
   "outputs": [],
   "source": []
  },
  {
   "cell_type": "markdown",
   "id": "f93bd05f",
   "metadata": {},
   "source": [
    "# Forecasting data driven models"
   ]
  },
  {
   "cell_type": "code",
   "execution_count": 24,
   "id": "49b907ac",
   "metadata": {},
   "outputs": [],
   "source": [
    "from statsmodels.tsa.seasonal import seasonal_decompose\n",
    "from statsmodels.tsa.holtwinters import SimpleExpSmoothing # SES\n",
    "from statsmodels.tsa.holtwinters import Holt # Holts Exponential Smoothing\n",
    "from statsmodels.tsa.holtwinters import ExponentialSmoothing "
   ]
  },
  {
   "cell_type": "markdown",
   "id": "fca65624",
   "metadata": {},
   "source": [
    "### Splitting data"
   ]
  },
  {
   "cell_type": "code",
   "execution_count": 25,
   "id": "3b8a3c70",
   "metadata": {},
   "outputs": [],
   "source": [
    "Train = df_1.head(1752)\n",
    "Test = df_1.tail(430)"
   ]
  },
  {
   "cell_type": "markdown",
   "id": "4891426d",
   "metadata": {},
   "source": [
    "### Moving Average"
   ]
  },
  {
   "cell_type": "code",
   "execution_count": 26,
   "id": "2014b8c7",
   "metadata": {},
   "outputs": [
    {
     "data": {
      "text/plain": [
       "<matplotlib.legend.Legend at 0x16ba7b7a460>"
      ]
     },
     "execution_count": 26,
     "metadata": {},
     "output_type": "execute_result"
    },
    {
     "data": {
      "image/png": "[encoded data removed]",
      "text/plain": [
       "<Figure size 864x288 with 1 Axes>"
      ]
     },
     "metadata": {
      "needs_background": "light"
     },
     "output_type": "display_data"
    }
   ],
   "source": [
    "plt.figure(figsize=(12,4))\n",
    "df_1.price.plot(label=\"org\")\n",
    "for i in range(2,18,6):\n",
    "    df_1[\"price\"].rolling(i).mean().plot(label=str(i))\n",
    "plt.legend(loc='best')"
   ]
  },
  {
   "cell_type": "markdown",
   "id": "dee51e1d",
   "metadata": {},
   "source": [
    "### Time series decomposition plot"
   ]
  },
  {
   "cell_type": "markdown",
   "id": "a1cca8c1",
   "metadata": {},
   "source": [
    "Any time series data compose of level,trend,seasonality and noise"
   ]
  },
  {
   "cell_type": "code",
   "execution_count": 27,
   "id": "31738f26",
   "metadata": {},
   "outputs": [
    {
     "data": {
      "image/png": "[encoded data removed]",
      "text/plain": [
       "<Figure size 432x288 with 4 Axes>"
      ]
     },
     "metadata": {
      "needs_background": "light"
     },
     "output_type": "display_data"
    }
   ],
   "source": [
    "decompose_df = seasonal_decompose(df_1.price,period=24)               \n",
    "decompose_df.plot()\n",
    "plt.show()"
   ]
  },
  {
   "cell_type": "markdown",
   "id": "dd41e641",
   "metadata": {},
   "source": [
    "### ACF plots and PACF plots"
   ]
  },
  {
   "cell_type": "code",
   "execution_count": 28,
   "id": "41b607f0",
   "metadata": {},
   "outputs": [
    {
     "data": {
      "image/png": "[encoded data removed]",
      "text/plain": [
       "<Figure size 432x288 with 1 Axes>"
      ]
     },
     "metadata": {
      "needs_background": "light"
     },
     "output_type": "display_data"
    },
    {
     "data": {
      "image/png": "[encoded data removed]",
      "text/plain": [
       "<Figure size 432x288 with 1 Axes>"
      ]
     },
     "metadata": {
      "needs_background": "light"
     },
     "output_type": "display_data"
    }
   ],
   "source": [
    "import statsmodels.graphics.tsaplots as tsa_plots\n",
    "tsa_plots.plot_acf(df_1.price,lags=30)\n",
    "tsa_plots.plot_pacf(df_1.price,lags=12)\n",
    "plt.show()"
   ]
  },
  {
   "cell_type": "markdown",
   "id": "905760de",
   "metadata": {},
   "source": [
    "### Evaluation Metric MAPE"
   ]
  },
  {
   "cell_type": "code",
   "execution_count": 29,
   "id": "f6965ee3",
   "metadata": {},
   "outputs": [],
   "source": [
    "def MAPE(pred,org):\n",
    "    temp = np.abs((pred-org)/org)*100\n",
    "    return np.mean(temp)"
   ]
  },
  {
   "cell_type": "markdown",
   "id": "970449d2",
   "metadata": {},
   "source": [
    "### Simple Exponential Method"
   ]
  },
  {
   "cell_type": "code",
   "execution_count": 30,
   "id": "4d875c7c",
   "metadata": {},
   "outputs": [
    {
     "data": {
      "text/plain": [
       "4.807189928195356"
      ]
     },
     "execution_count": 30,
     "metadata": {},
     "output_type": "execute_result"
    }
   ],
   "source": [
    "ses_model = SimpleExpSmoothing(Train[\"price\"]).fit()\n",
    "pred_ses = ses_model.predict(start = Test.index[0],end = Test.index[-1])\n",
    "MAPE(pred_ses,Test.price)"
   ]
  },
  {
   "cell_type": "markdown",
   "id": "c92e8c6d",
   "metadata": {},
   "source": [
    "### Holt method"
   ]
  },
  {
   "cell_type": "code",
   "execution_count": 31,
   "id": "877313a5",
   "metadata": {},
   "outputs": [
    {
     "data": {
      "text/plain": [
       "14.72276467587232"
      ]
     },
     "execution_count": 31,
     "metadata": {},
     "output_type": "execute_result"
    }
   ],
   "source": [
    "hw_model = Holt(Train[\"price\"]).fit()\n",
    "pred_hw = hw_model.predict(start = Test.index[0],end = Test.index[-1])\n",
    "MAPE(pred_hw,Test.price)"
   ]
  },
  {
   "cell_type": "markdown",
   "id": "33ceabae",
   "metadata": {},
   "source": [
    "### Holts winter exponential smoothing with additive seasonality and additive trend"
   ]
  },
  {
   "cell_type": "code",
   "execution_count": 32,
   "id": "c9e90ed4",
   "metadata": {},
   "outputs": [
    {
     "data": {
      "text/plain": [
       "60.929490984345556"
      ]
     },
     "execution_count": 32,
     "metadata": {},
     "output_type": "execute_result"
    }
   ],
   "source": [
    "hwe_model_add_add = ExponentialSmoothing(Train[\"price\"],seasonal=\"add\",trend=\"add\",seasonal_periods=12).fit()\n",
    "pred_hwe_add_add = hwe_model_add_add.predict(start = Test.index[0],end = Test.index[-1])\n",
    "MAPE(pred_hwe_add_add,Test.price)"
   ]
  },
  {
   "cell_type": "markdown",
   "id": "18d139bc",
   "metadata": {},
   "source": [
    "### Holts winter exponential smoothing with multiplicative seasonality and additive trend"
   ]
  },
  {
   "cell_type": "code",
   "execution_count": 33,
   "id": "a1dc0912",
   "metadata": {},
   "outputs": [
    {
     "data": {
      "text/plain": [
       "27.543210736662104"
      ]
     },
     "execution_count": 33,
     "metadata": {},
     "output_type": "execute_result"
    }
   ],
   "source": [
    "hwe_model_mul_add = ExponentialSmoothing(Train[\"price\"],seasonal=\"mul\",trend=\"add\",seasonal_periods=12).fit() \n",
    "pred_hwe_mul_add = hwe_model_mul_add.predict(start = Test.index[0],end = Test.index[-1])\n",
    "MAPE(pred_hwe_mul_add,Test.price)"
   ]
  },
  {
   "cell_type": "markdown",
   "id": "d47ca9cc",
   "metadata": {},
   "source": [
    "# Best Model by combining train and test\n",
    "\n",
    "#### Simple Exponential method giving least MAPE (Mean absolute percentage error)"
   ]
  },
  {
   "cell_type": "code",
   "execution_count": 34,
   "id": "c12adfcd",
   "metadata": {},
   "outputs": [
    {
     "data": {
      "text/plain": [
       "2182    4346.63514\n",
       "2183    4346.63514\n",
       "2184    4346.63514\n",
       "2185    4346.63514\n",
       "2186    4346.63514\n",
       "2187    4346.63514\n",
       "2188    4346.63514\n",
       "2189    4346.63514\n",
       "2190    4346.63514\n",
       "2191    4346.63514\n",
       "dtype: float64"
      ]
     },
     "execution_count": 34,
     "metadata": {},
     "output_type": "execute_result"
    }
   ],
   "source": [
    "ses_model = SimpleExpSmoothing(df_1[\"price\"]).fit()\n",
    "ses_model.forecast(10)  ##Forecasting for next 10 time periods"
   ]
  },
  {
   "cell_type": "code",
   "execution_count": null,
   "id": "e43fc824",
   "metadata": {},
   "outputs": [],
   "source": []
  },
  {
   "cell_type": "code",
   "execution_count": null,
   "id": "bc38573f",
   "metadata": {},
   "outputs": [],
   "source": []
  },
  {
   "cell_type": "code",
   "execution_count": null,
   "id": "42796c96",
   "metadata": {},
   "outputs": [],
   "source": []
  },
  {
   "cell_type": "markdown",
   "id": "5b77a92c",
   "metadata": {},
   "source": [
    "# Forecasting model based method"
   ]
  },
  {
   "cell_type": "code",
   "execution_count": 35,
   "id": "b05c11e5",
   "metadata": {},
   "outputs": [
    {
     "data": {
      "text/html": [
       "<div>\n",
       "<style scoped>\n",
       "    .dataframe tbody tr th:only-of-type {\n",
       "        vertical-align: middle;\n",
       "    }\n",
       "\n",
       "    .dataframe tbody tr th {\n",
       "        vertical-align: top;\n",
       "    }\n",
       "\n",
       "    .dataframe thead th {\n",
       "        text-align: right;\n",
       "    }\n",
       "</style>\n",
       "<table border=\"1\" class=\"dataframe\">\n",
       "  <thead>\n",
       "    <tr style=\"text-align: right;\">\n",
       "      <th></th>\n",
       "      <th>date</th>\n",
       "      <th>price</th>\n",
       "    </tr>\n",
       "  </thead>\n",
       "  <tbody>\n",
       "    <tr>\n",
       "      <th>0</th>\n",
       "      <td>2016-01-01</td>\n",
       "      <td>2252.60</td>\n",
       "    </tr>\n",
       "    <tr>\n",
       "      <th>1</th>\n",
       "      <td>2016-01-02</td>\n",
       "      <td>2454.50</td>\n",
       "    </tr>\n",
       "    <tr>\n",
       "      <th>2</th>\n",
       "      <td>2016-01-03</td>\n",
       "      <td>2708.10</td>\n",
       "    </tr>\n",
       "    <tr>\n",
       "      <th>3</th>\n",
       "      <td>2016-01-04</td>\n",
       "      <td>2577.80</td>\n",
       "    </tr>\n",
       "    <tr>\n",
       "      <th>4</th>\n",
       "      <td>2016-01-05</td>\n",
       "      <td>2597.75</td>\n",
       "    </tr>\n",
       "  </tbody>\n",
       "</table>\n",
       "</div>"
      ],
      "text/plain": [
       "        date    price\n",
       "0 2016-01-01  2252.60\n",
       "1 2016-01-02  2454.50\n",
       "2 2016-01-03  2708.10\n",
       "3 2016-01-04  2577.80\n",
       "4 2016-01-05  2597.75"
      ]
     },
     "execution_count": 35,
     "metadata": {},
     "output_type": "execute_result"
    }
   ],
   "source": [
    "df_1.head()"
   ]
  },
  {
   "cell_type": "code",
   "execution_count": 36,
   "id": "45561281",
   "metadata": {},
   "outputs": [],
   "source": [
    "df_2=df_1.copy()"
   ]
  },
  {
   "cell_type": "code",
   "execution_count": 37,
   "id": "86e5f0bd",
   "metadata": {},
   "outputs": [
    {
     "data": {
      "text/html": [
       "<div>\n",
       "<style scoped>\n",
       "    .dataframe tbody tr th:only-of-type {\n",
       "        vertical-align: middle;\n",
       "    }\n",
       "\n",
       "    .dataframe tbody tr th {\n",
       "        vertical-align: top;\n",
       "    }\n",
       "\n",
       "    .dataframe thead th {\n",
       "        text-align: right;\n",
       "    }\n",
       "</style>\n",
       "<table border=\"1\" class=\"dataframe\">\n",
       "  <thead>\n",
       "    <tr style=\"text-align: right;\">\n",
       "      <th></th>\n",
       "      <th>date</th>\n",
       "      <th>price</th>\n",
       "      <th>month</th>\n",
       "      <th>month_sq</th>\n",
       "      <th>log_price</th>\n",
       "    </tr>\n",
       "  </thead>\n",
       "  <tbody>\n",
       "    <tr>\n",
       "      <th>2177</th>\n",
       "      <td>2021-12-17</td>\n",
       "      <td>4394.4</td>\n",
       "      <td>12</td>\n",
       "      <td>144</td>\n",
       "      <td>8.388086</td>\n",
       "    </tr>\n",
       "    <tr>\n",
       "      <th>2178</th>\n",
       "      <td>2021-12-18</td>\n",
       "      <td>4389.5</td>\n",
       "      <td>12</td>\n",
       "      <td>144</td>\n",
       "      <td>8.386971</td>\n",
       "    </tr>\n",
       "    <tr>\n",
       "      <th>2179</th>\n",
       "      <td>2021-12-19</td>\n",
       "      <td>4389.5</td>\n",
       "      <td>12</td>\n",
       "      <td>144</td>\n",
       "      <td>8.386971</td>\n",
       "    </tr>\n",
       "    <tr>\n",
       "      <th>2180</th>\n",
       "      <td>2021-12-20</td>\n",
       "      <td>4354.1</td>\n",
       "      <td>12</td>\n",
       "      <td>144</td>\n",
       "      <td>8.378873</td>\n",
       "    </tr>\n",
       "    <tr>\n",
       "      <th>2181</th>\n",
       "      <td>2021-12-21</td>\n",
       "      <td>4346.5</td>\n",
       "      <td>12</td>\n",
       "      <td>144</td>\n",
       "      <td>8.377126</td>\n",
       "    </tr>\n",
       "  </tbody>\n",
       "</table>\n",
       "</div>"
      ],
      "text/plain": [
       "           date   price  month  month_sq  log_price\n",
       "2177 2021-12-17  4394.4     12       144   8.388086\n",
       "2178 2021-12-18  4389.5     12       144   8.386971\n",
       "2179 2021-12-19  4389.5     12       144   8.386971\n",
       "2180 2021-12-20  4354.1     12       144   8.378873\n",
       "2181 2021-12-21  4346.5     12       144   8.377126"
      ]
     },
     "execution_count": 37,
     "metadata": {},
     "output_type": "execute_result"
    }
   ],
   "source": [
    "df_2['month']=df_2['date'].dt.month\n",
    "df_2['month_sq']=np.square(df_2['month'])\n",
    "df_2['log_price']=np.log(df_2['price'])\n",
    "df_2.tail()"
   ]
  },
  {
   "cell_type": "code",
   "execution_count": 38,
   "id": "47f40445",
   "metadata": {},
   "outputs": [
    {
     "data": {
      "text/html": [
       "<div>\n",
       "<style scoped>\n",
       "    .dataframe tbody tr th:only-of-type {\n",
       "        vertical-align: middle;\n",
       "    }\n",
       "\n",
       "    .dataframe tbody tr th {\n",
       "        vertical-align: top;\n",
       "    }\n",
       "\n",
       "    .dataframe thead th {\n",
       "        text-align: right;\n",
       "    }\n",
       "</style>\n",
       "<table border=\"1\" class=\"dataframe\">\n",
       "  <thead>\n",
       "    <tr style=\"text-align: right;\">\n",
       "      <th></th>\n",
       "      <th>date</th>\n",
       "      <th>price</th>\n",
       "      <th>month</th>\n",
       "      <th>month_sq</th>\n",
       "      <th>log_price</th>\n",
       "      <th>month_name_Apr</th>\n",
       "      <th>month_name_Aug</th>\n",
       "      <th>month_name_Dec</th>\n",
       "      <th>month_name_Feb</th>\n",
       "      <th>month_name_Jan</th>\n",
       "      <th>month_name_Jul</th>\n",
       "      <th>month_name_Jun</th>\n",
       "      <th>month_name_Mar</th>\n",
       "      <th>month_name_May</th>\n",
       "      <th>month_name_Nov</th>\n",
       "      <th>month_name_Oct</th>\n",
       "      <th>month_name_Sep</th>\n",
       "    </tr>\n",
       "  </thead>\n",
       "  <tbody>\n",
       "    <tr>\n",
       "      <th>0</th>\n",
       "      <td>2016-01-01</td>\n",
       "      <td>2252.60</td>\n",
       "      <td>1</td>\n",
       "      <td>1</td>\n",
       "      <td>7.719840</td>\n",
       "      <td>0</td>\n",
       "      <td>0</td>\n",
       "      <td>0</td>\n",
       "      <td>0</td>\n",
       "      <td>1</td>\n",
       "      <td>0</td>\n",
       "      <td>0</td>\n",
       "      <td>0</td>\n",
       "      <td>0</td>\n",
       "      <td>0</td>\n",
       "      <td>0</td>\n",
       "      <td>0</td>\n",
       "    </tr>\n",
       "    <tr>\n",
       "      <th>1</th>\n",
       "      <td>2016-01-02</td>\n",
       "      <td>2454.50</td>\n",
       "      <td>1</td>\n",
       "      <td>1</td>\n",
       "      <td>7.805678</td>\n",
       "      <td>0</td>\n",
       "      <td>0</td>\n",
       "      <td>0</td>\n",
       "      <td>0</td>\n",
       "      <td>1</td>\n",
       "      <td>0</td>\n",
       "      <td>0</td>\n",
       "      <td>0</td>\n",
       "      <td>0</td>\n",
       "      <td>0</td>\n",
       "      <td>0</td>\n",
       "      <td>0</td>\n",
       "    </tr>\n",
       "    <tr>\n",
       "      <th>2</th>\n",
       "      <td>2016-01-03</td>\n",
       "      <td>2708.10</td>\n",
       "      <td>1</td>\n",
       "      <td>1</td>\n",
       "      <td>7.904003</td>\n",
       "      <td>0</td>\n",
       "      <td>0</td>\n",
       "      <td>0</td>\n",
       "      <td>0</td>\n",
       "      <td>1</td>\n",
       "      <td>0</td>\n",
       "      <td>0</td>\n",
       "      <td>0</td>\n",
       "      <td>0</td>\n",
       "      <td>0</td>\n",
       "      <td>0</td>\n",
       "      <td>0</td>\n",
       "    </tr>\n",
       "    <tr>\n",
       "      <th>3</th>\n",
       "      <td>2016-01-04</td>\n",
       "      <td>2577.80</td>\n",
       "      <td>1</td>\n",
       "      <td>1</td>\n",
       "      <td>7.854692</td>\n",
       "      <td>0</td>\n",
       "      <td>0</td>\n",
       "      <td>0</td>\n",
       "      <td>0</td>\n",
       "      <td>1</td>\n",
       "      <td>0</td>\n",
       "      <td>0</td>\n",
       "      <td>0</td>\n",
       "      <td>0</td>\n",
       "      <td>0</td>\n",
       "      <td>0</td>\n",
       "      <td>0</td>\n",
       "    </tr>\n",
       "    <tr>\n",
       "      <th>4</th>\n",
       "      <td>2016-01-05</td>\n",
       "      <td>2597.75</td>\n",
       "      <td>1</td>\n",
       "      <td>1</td>\n",
       "      <td>7.862401</td>\n",
       "      <td>0</td>\n",
       "      <td>0</td>\n",
       "      <td>0</td>\n",
       "      <td>0</td>\n",
       "      <td>1</td>\n",
       "      <td>0</td>\n",
       "      <td>0</td>\n",
       "      <td>0</td>\n",
       "      <td>0</td>\n",
       "      <td>0</td>\n",
       "      <td>0</td>\n",
       "      <td>0</td>\n",
       "    </tr>\n",
       "  </tbody>\n",
       "</table>\n",
       "</div>"
      ],
      "text/plain": [
       "        date    price  month  month_sq  log_price  month_name_Apr  \\\n",
       "0 2016-01-01  2252.60      1         1   7.719840               0   \n",
       "1 2016-01-02  2454.50      1         1   7.805678               0   \n",
       "2 2016-01-03  2708.10      1         1   7.904003               0   \n",
       "3 2016-01-04  2577.80      1         1   7.854692               0   \n",
       "4 2016-01-05  2597.75      1         1   7.862401               0   \n",
       "\n",
       "   month_name_Aug  month_name_Dec  month_name_Feb  month_name_Jan  \\\n",
       "0               0               0               0               1   \n",
       "1               0               0               0               1   \n",
       "2               0               0               0               1   \n",
       "3               0               0               0               1   \n",
       "4               0               0               0               1   \n",
       "\n",
       "   month_name_Jul  month_name_Jun  month_name_Mar  month_name_May  \\\n",
       "0               0               0               0               0   \n",
       "1               0               0               0               0   \n",
       "2               0               0               0               0   \n",
       "3               0               0               0               0   \n",
       "4               0               0               0               0   \n",
       "\n",
       "   month_name_Nov  month_name_Oct  month_name_Sep  \n",
       "0               0               0               0  \n",
       "1               0               0               0  \n",
       "2               0               0               0  \n",
       "3               0               0               0  \n",
       "4               0               0               0  "
      ]
     },
     "execution_count": 38,
     "metadata": {},
     "output_type": "execute_result"
    }
   ],
   "source": [
    "df_2['month_name'] = df_2['date'].dt.strftime('%b')\n",
    "df_2=pd.get_dummies(df_2)\n",
    "df_2.head()"
   ]
  },
  {
   "cell_type": "code",
   "execution_count": 39,
   "id": "06d69148",
   "metadata": {},
   "outputs": [
    {
     "data": {
      "text/plain": [
       "(2182, 17)"
      ]
     },
     "execution_count": 39,
     "metadata": {},
     "output_type": "execute_result"
    }
   ],
   "source": [
    "df_2.shape"
   ]
  },
  {
   "cell_type": "code",
   "execution_count": 40,
   "id": "f88ff2c7",
   "metadata": {},
   "outputs": [
    {
     "data": {
      "text/plain": [
       "Index(['date', 'price', 'month', 'month_sq', 'log_price', 'month_name_Apr',\n",
       "       'month_name_Aug', 'month_name_Dec', 'month_name_Feb', 'month_name_Jan',\n",
       "       'month_name_Jul', 'month_name_Jun', 'month_name_Mar', 'month_name_May',\n",
       "       'month_name_Nov', 'month_name_Oct', 'month_name_Sep'],\n",
       "      dtype='object')"
      ]
     },
     "execution_count": 40,
     "metadata": {},
     "output_type": "execute_result"
    }
   ],
   "source": [
    "df_2.columns"
   ]
  },
  {
   "cell_type": "code",
   "execution_count": 41,
   "id": "465995ff",
   "metadata": {},
   "outputs": [
    {
     "data": {
      "text/html": [
       "<div>\n",
       "<style scoped>\n",
       "    .dataframe tbody tr th:only-of-type {\n",
       "        vertical-align: middle;\n",
       "    }\n",
       "\n",
       "    .dataframe tbody tr th {\n",
       "        vertical-align: top;\n",
       "    }\n",
       "\n",
       "    .dataframe thead th {\n",
       "        text-align: right;\n",
       "    }\n",
       "</style>\n",
       "<table border=\"1\" class=\"dataframe\">\n",
       "  <thead>\n",
       "    <tr style=\"text-align: right;\">\n",
       "      <th></th>\n",
       "      <th>date</th>\n",
       "      <th>price</th>\n",
       "      <th>month</th>\n",
       "      <th>month_sq</th>\n",
       "      <th>log_price</th>\n",
       "      <th>Apr</th>\n",
       "      <th>Aug</th>\n",
       "      <th>Dec</th>\n",
       "      <th>Feb</th>\n",
       "      <th>Jan</th>\n",
       "      <th>Jul</th>\n",
       "      <th>Jun</th>\n",
       "      <th>Mar</th>\n",
       "      <th>May</th>\n",
       "      <th>Nov</th>\n",
       "      <th>Oct</th>\n",
       "      <th>Sep</th>\n",
       "    </tr>\n",
       "  </thead>\n",
       "  <tbody>\n",
       "    <tr>\n",
       "      <th>0</th>\n",
       "      <td>2016-01-01</td>\n",
       "      <td>2252.60</td>\n",
       "      <td>1</td>\n",
       "      <td>1</td>\n",
       "      <td>7.719840</td>\n",
       "      <td>0</td>\n",
       "      <td>0</td>\n",
       "      <td>0</td>\n",
       "      <td>0</td>\n",
       "      <td>1</td>\n",
       "      <td>0</td>\n",
       "      <td>0</td>\n",
       "      <td>0</td>\n",
       "      <td>0</td>\n",
       "      <td>0</td>\n",
       "      <td>0</td>\n",
       "      <td>0</td>\n",
       "    </tr>\n",
       "    <tr>\n",
       "      <th>1</th>\n",
       "      <td>2016-01-02</td>\n",
       "      <td>2454.50</td>\n",
       "      <td>1</td>\n",
       "      <td>1</td>\n",
       "      <td>7.805678</td>\n",
       "      <td>0</td>\n",
       "      <td>0</td>\n",
       "      <td>0</td>\n",
       "      <td>0</td>\n",
       "      <td>1</td>\n",
       "      <td>0</td>\n",
       "      <td>0</td>\n",
       "      <td>0</td>\n",
       "      <td>0</td>\n",
       "      <td>0</td>\n",
       "      <td>0</td>\n",
       "      <td>0</td>\n",
       "    </tr>\n",
       "    <tr>\n",
       "      <th>2</th>\n",
       "      <td>2016-01-03</td>\n",
       "      <td>2708.10</td>\n",
       "      <td>1</td>\n",
       "      <td>1</td>\n",
       "      <td>7.904003</td>\n",
       "      <td>0</td>\n",
       "      <td>0</td>\n",
       "      <td>0</td>\n",
       "      <td>0</td>\n",
       "      <td>1</td>\n",
       "      <td>0</td>\n",
       "      <td>0</td>\n",
       "      <td>0</td>\n",
       "      <td>0</td>\n",
       "      <td>0</td>\n",
       "      <td>0</td>\n",
       "      <td>0</td>\n",
       "    </tr>\n",
       "    <tr>\n",
       "      <th>3</th>\n",
       "      <td>2016-01-04</td>\n",
       "      <td>2577.80</td>\n",
       "      <td>1</td>\n",
       "      <td>1</td>\n",
       "      <td>7.854692</td>\n",
       "      <td>0</td>\n",
       "      <td>0</td>\n",
       "      <td>0</td>\n",
       "      <td>0</td>\n",
       "      <td>1</td>\n",
       "      <td>0</td>\n",
       "      <td>0</td>\n",
       "      <td>0</td>\n",
       "      <td>0</td>\n",
       "      <td>0</td>\n",
       "      <td>0</td>\n",
       "      <td>0</td>\n",
       "    </tr>\n",
       "    <tr>\n",
       "      <th>4</th>\n",
       "      <td>2016-01-05</td>\n",
       "      <td>2597.75</td>\n",
       "      <td>1</td>\n",
       "      <td>1</td>\n",
       "      <td>7.862401</td>\n",
       "      <td>0</td>\n",
       "      <td>0</td>\n",
       "      <td>0</td>\n",
       "      <td>0</td>\n",
       "      <td>1</td>\n",
       "      <td>0</td>\n",
       "      <td>0</td>\n",
       "      <td>0</td>\n",
       "      <td>0</td>\n",
       "      <td>0</td>\n",
       "      <td>0</td>\n",
       "      <td>0</td>\n",
       "    </tr>\n",
       "  </tbody>\n",
       "</table>\n",
       "</div>"
      ],
      "text/plain": [
       "        date    price  month  month_sq  log_price  Apr  Aug  Dec  Feb  Jan  \\\n",
       "0 2016-01-01  2252.60      1         1   7.719840    0    0    0    0    1   \n",
       "1 2016-01-02  2454.50      1         1   7.805678    0    0    0    0    1   \n",
       "2 2016-01-03  2708.10      1         1   7.904003    0    0    0    0    1   \n",
       "3 2016-01-04  2577.80      1         1   7.854692    0    0    0    0    1   \n",
       "4 2016-01-05  2597.75      1         1   7.862401    0    0    0    0    1   \n",
       "\n",
       "   Jul  Jun  Mar  May  Nov  Oct  Sep  \n",
       "0    0    0    0    0    0    0    0  \n",
       "1    0    0    0    0    0    0    0  \n",
       "2    0    0    0    0    0    0    0  \n",
       "3    0    0    0    0    0    0    0  \n",
       "4    0    0    0    0    0    0    0  "
      ]
     },
     "execution_count": 41,
     "metadata": {},
     "output_type": "execute_result"
    }
   ],
   "source": [
    "df_2.rename(columns={'month_name_Apr': 'Apr',\n",
    "       'month_name_Aug':'Aug', 'month_name_Dec':'Dec', 'month_name_Feb':'Feb', 'month_name_Jan':'Jan',\n",
    "       'month_name_Jul':'Jul', 'month_name_Jun':'Jun', 'month_name_Mar':'Mar', 'month_name_May':'May',\n",
    "       'month_name_Nov':'Nov', 'month_name_Oct':'Oct', 'month_name_Sep':'Sep'},inplace=True)\n",
    "df_2.head()"
   ]
  },
  {
   "cell_type": "markdown",
   "id": "a8b94f5f",
   "metadata": {},
   "source": [
    "### Splitting data"
   ]
  },
  {
   "cell_type": "code",
   "execution_count": 42,
   "id": "5e8bc221",
   "metadata": {},
   "outputs": [],
   "source": [
    "Train = df_2.head(1752)\n",
    "Test = df_2.tail(430)"
   ]
  },
  {
   "cell_type": "code",
   "execution_count": 43,
   "id": "e76a5770",
   "metadata": {},
   "outputs": [
    {
     "data": {
      "text/plain": [
       "1253.0149497647515"
      ]
     },
     "execution_count": 43,
     "metadata": {},
     "output_type": "execute_result"
    }
   ],
   "source": [
    "#Linear Model\n",
    "import statsmodels.formula.api as smf \n",
    "\n",
    "linear_model = smf.ols('price~month',data=Train).fit()\n",
    "pred_linear =  pd.Series(linear_model.predict(pd.DataFrame(Test['month'])))\n",
    "rmse_linear = np.sqrt(np.mean((np.array(Test['price'])-np.array(pred_linear))**2))\n",
    "rmse_linear"
   ]
  },
  {
   "cell_type": "code",
   "execution_count": 44,
   "id": "1dc34f7f",
   "metadata": {},
   "outputs": [
    {
     "data": {
      "text/plain": [
       "1299.4444390567728"
      ]
     },
     "execution_count": 44,
     "metadata": {},
     "output_type": "execute_result"
    }
   ],
   "source": [
    "#Exponential\n",
    "\n",
    "Exp = smf.ols('log_price~month',data=Train).fit()\n",
    "pred_Exp = pd.Series(Exp.predict(pd.DataFrame(Test['month'])))\n",
    "rmse_Exp = np.sqrt(np.mean((np.array(Test['price'])-np.array(np.exp(pred_Exp)))**2))\n",
    "rmse_Exp"
   ]
  },
  {
   "cell_type": "code",
   "execution_count": 45,
   "id": "30ae05bf",
   "metadata": {},
   "outputs": [
    {
     "data": {
      "text/plain": [
       "1276.2538923168995"
      ]
     },
     "execution_count": 45,
     "metadata": {},
     "output_type": "execute_result"
    }
   ],
   "source": [
    "#Quadratic \n",
    "\n",
    "Quad = smf.ols('price~month+month_sq',data=Train).fit()\n",
    "pred_Quad = pd.Series(Quad.predict(Test[[\"month\",\"month_sq\"]]))\n",
    "rmse_Quad = np.sqrt(np.mean((np.array(Test['price'])-np.array(pred_Quad))**2))\n",
    "rmse_Quad"
   ]
  },
  {
   "cell_type": "code",
   "execution_count": 46,
   "id": "6cee8704",
   "metadata": {},
   "outputs": [
    {
     "data": {
      "text/plain": [
       "1288.296006458844"
      ]
     },
     "execution_count": 46,
     "metadata": {},
     "output_type": "execute_result"
    }
   ],
   "source": [
    "#Additive seasonality \n",
    "\n",
    "add_sea = smf.ols('price~Jan+Feb+Mar+Apr+May+Jun+Jul+Aug+Sep+Oct+Nov',data=Train).fit()\n",
    "pred_add_sea = pd.Series(add_sea.predict(Test[['Jan','Feb','Mar','Apr','May','Jun','Jul','Aug','Sep','Oct','Nov']]))\n",
    "rmse_add_sea = np.sqrt(np.mean((np.array(Test['price'])-np.array(pred_add_sea))**2))\n",
    "rmse_add_sea"
   ]
  },
  {
   "cell_type": "code",
   "execution_count": 47,
   "id": "968e9138",
   "metadata": {},
   "outputs": [
    {
     "data": {
      "text/plain": [
       "1288.2960064594226"
      ]
     },
     "execution_count": 47,
     "metadata": {},
     "output_type": "execute_result"
    }
   ],
   "source": [
    "#Additive Seasonality Quadratic \n",
    "\n",
    "add_sea_Quad = smf.ols('price~month+month_sq+Jan+Feb+Mar+Apr+May+Jun+Jul+Aug+Sep+Oct+Nov',data=Train).fit()\n",
    "pred_add_sea_quad = pd.Series(add_sea_Quad.predict(Test[['Jan','Feb','Mar','Apr','May','Jun','Jul','Aug',\n",
    "                                                         'Sep','Oct','Nov','month','month_sq']]))\n",
    "rmse_add_sea_quad = np.sqrt(np.mean((np.array(Test['price'])-np.array(pred_add_sea_quad))**2))\n",
    "rmse_add_sea_quad"
   ]
  },
  {
   "cell_type": "code",
   "execution_count": 48,
   "id": "294f7d1d",
   "metadata": {},
   "outputs": [
    {
     "data": {
      "text/plain": [
       "1326.930483313665"
      ]
     },
     "execution_count": 48,
     "metadata": {},
     "output_type": "execute_result"
    }
   ],
   "source": [
    "##Multiplicative Seasonality\n",
    "\n",
    "Mul_sea = smf.ols('log_price~Jan+Feb+Mar+Apr+May+Jun+Jul+Aug+Sep+Oct+Nov',data = Train).fit()\n",
    "pred_Mult_sea = pd.Series(Mul_sea.predict(Test))\n",
    "rmse_Mult_sea = np.sqrt(np.mean((np.array(Test['price'])-np.array(np.exp(pred_Mult_sea)))**2))\n",
    "rmse_Mult_sea"
   ]
  },
  {
   "cell_type": "code",
   "execution_count": 49,
   "id": "b51948a3",
   "metadata": {},
   "outputs": [
    {
     "data": {
      "text/plain": [
       "1326.930483313697"
      ]
     },
     "execution_count": 49,
     "metadata": {},
     "output_type": "execute_result"
    }
   ],
   "source": [
    "#Multiplicative Additive Seasonality \n",
    "\n",
    "Mul_Add_sea = smf.ols('log_price~month+Jan+Feb+Mar+Apr+May+Jun+Jul+Aug+Sep+Oct+Nov',data = Train).fit()\n",
    "pred_Mult_add_sea = pd.Series(Mul_Add_sea.predict(Test))\n",
    "rmse_Mult_add_sea = np.sqrt(np.mean((np.array(Test['price'])-np.array(np.exp(pred_Mult_add_sea)))**2))\n",
    "rmse_Mult_add_sea "
   ]
  },
  {
   "cell_type": "code",
   "execution_count": 50,
   "id": "9b6d2f46",
   "metadata": {},
   "outputs": [
    {
     "data": {
      "text/html": [
       "<div>\n",
       "<style scoped>\n",
       "    .dataframe tbody tr th:only-of-type {\n",
       "        vertical-align: middle;\n",
       "    }\n",
       "\n",
       "    .dataframe tbody tr th {\n",
       "        vertical-align: top;\n",
       "    }\n",
       "\n",
       "    .dataframe thead th {\n",
       "        text-align: right;\n",
       "    }\n",
       "</style>\n",
       "<table border=\"1\" class=\"dataframe\">\n",
       "  <thead>\n",
       "    <tr style=\"text-align: right;\">\n",
       "      <th></th>\n",
       "      <th>MODEL</th>\n",
       "      <th>RMSE_Values</th>\n",
       "    </tr>\n",
       "  </thead>\n",
       "  <tbody>\n",
       "    <tr>\n",
       "      <th>0</th>\n",
       "      <td>rmse_linear</td>\n",
       "      <td>1253.014950</td>\n",
       "    </tr>\n",
       "    <tr>\n",
       "      <th>2</th>\n",
       "      <td>rmse_Quad</td>\n",
       "      <td>1276.253892</td>\n",
       "    </tr>\n",
       "    <tr>\n",
       "      <th>3</th>\n",
       "      <td>rmse_add_sea</td>\n",
       "      <td>1288.296006</td>\n",
       "    </tr>\n",
       "    <tr>\n",
       "      <th>4</th>\n",
       "      <td>rmse_add_sea_quad</td>\n",
       "      <td>1288.296006</td>\n",
       "    </tr>\n",
       "    <tr>\n",
       "      <th>1</th>\n",
       "      <td>rmse_Exp</td>\n",
       "      <td>1299.444439</td>\n",
       "    </tr>\n",
       "    <tr>\n",
       "      <th>5</th>\n",
       "      <td>rmse_Mult_sea</td>\n",
       "      <td>1326.930483</td>\n",
       "    </tr>\n",
       "    <tr>\n",
       "      <th>6</th>\n",
       "      <td>rmse_Mult_add_sea</td>\n",
       "      <td>1326.930483</td>\n",
       "    </tr>\n",
       "  </tbody>\n",
       "</table>\n",
       "</div>"
      ],
      "text/plain": [
       "               MODEL  RMSE_Values\n",
       "0        rmse_linear  1253.014950\n",
       "2          rmse_Quad  1276.253892\n",
       "3       rmse_add_sea  1288.296006\n",
       "4  rmse_add_sea_quad  1288.296006\n",
       "1           rmse_Exp  1299.444439\n",
       "5      rmse_Mult_sea  1326.930483\n",
       "6  rmse_Mult_add_sea  1326.930483"
      ]
     },
     "execution_count": 50,
     "metadata": {},
     "output_type": "execute_result"
    }
   ],
   "source": [
    "#Compare the results \n",
    "\n",
    "data = {\"MODEL\":pd.Series([\"rmse_linear\",\"rmse_Exp\",\"rmse_Quad\",\"rmse_add_sea\",\n",
    "                           \"rmse_add_sea_quad\",\"rmse_Mult_sea\",\"rmse_Mult_add_sea\"]),\n",
    "        \"RMSE_Values\":pd.Series([rmse_linear,rmse_Exp,rmse_Quad,rmse_add_sea,rmse_add_sea_quad,\n",
    "                                 rmse_Mult_sea,rmse_Mult_add_sea])}\n",
    "table_rmse=pd.DataFrame(data)\n",
    "table_rmse.sort_values(['RMSE_Values'])"
   ]
  },
  {
   "cell_type": "markdown",
   "id": "f1e6981e",
   "metadata": {},
   "source": [
    "#### Linear model is giving least RMSE value"
   ]
  },
  {
   "cell_type": "code",
   "execution_count": null,
   "id": "e1471112",
   "metadata": {},
   "outputs": [],
   "source": []
  },
  {
   "cell_type": "code",
   "execution_count": null,
   "id": "c3ea2a2e",
   "metadata": {},
   "outputs": [],
   "source": []
  },
  {
   "cell_type": "code",
   "execution_count": null,
   "id": "819c74a8",
   "metadata": {},
   "outputs": [],
   "source": []
  },
  {
   "cell_type": "code",
   "execution_count": null,
   "id": "6d915db0",
   "metadata": {},
   "outputs": [],
   "source": []
  },
  {
   "cell_type": "markdown",
   "id": "08aa05bf",
   "metadata": {},
   "source": [
    "# Forecasting Model_Arima"
   ]
  },
  {
   "cell_type": "markdown",
   "id": "a2894aa8",
   "metadata": {},
   "source": [
    "### Spitting Data"
   ]
  },
  {
   "cell_type": "code",
   "execution_count": 58,
   "id": "53a506d5",
   "metadata": {},
   "outputs": [],
   "source": [
    "series = read_csv('Gold-data.csv', header=0, index_col=0, parse_dates=True)"
   ]
  },
  {
   "cell_type": "code",
   "execution_count": 59,
   "id": "7b7cb877",
   "metadata": {},
   "outputs": [
    {
     "name": "stdout",
     "output_type": "stream",
     "text": [
      "Dataset 1752, Validation 430\n"
     ]
    }
   ],
   "source": [
    "# separate out a validation dataset\n",
    "split_point = len(series) - 430\n",
    "dataset, validation = series[0:split_point], series[split_point:]\n",
    "print('Dataset %d, Validation %d' % (len(dataset), len(validation)))\n",
    "dataset.to_csv('dataset.csv', header=False)\n",
    "validation.to_csv('validation.csv', header=False)"
   ]
  },
  {
   "cell_type": "markdown",
   "id": "23b475de",
   "metadata": {},
   "source": [
    "### Base model/Naive model/Persistence model"
   ]
  },
  {
   "cell_type": "code",
   "execution_count": 60,
   "id": "7f9caec1",
   "metadata": {},
   "outputs": [],
   "source": [
    "# evaluate a persistence model\n",
    "from pandas import read_csv\n",
    "from sklearn.metrics import mean_squared_error\n",
    "from math import sqrt\n",
    "# load data\n",
    "train = read_csv('dataset.csv', header=None, index_col=0, parse_dates=True, squeeze=True)\n",
    "# prepare data\n",
    "X = train.values\n",
    "X = X.astype('float32')\n",
    "train_size = int(len(X) * 0.50)\n",
    "train, test = X[0:train_size], X[train_size:]"
   ]
  },
  {
   "cell_type": "code",
   "execution_count": 61,
   "id": "24cd76c9",
   "metadata": {},
   "outputs": [
    {
     "name": "stdout",
     "output_type": "stream",
     "text": [
      ">Predicted=2826.200, Expected=2829.000\n",
      ">Predicted=2829.000, Expected=2829.100\n",
      ">Predicted=2829.100, Expected=2807.800\n",
      ">Predicted=2807.800, Expected=2832.300\n",
      ">Predicted=2832.300, Expected=2819.300\n",
      ">Predicted=2819.300, Expected=2812.800\n",
      ">Predicted=2812.800, Expected=2779.650\n",
      ">Predicted=2779.650, Expected=2746.500\n",
      ">Predicted=2746.500, Expected=2773.900\n",
      ">Predicted=2773.900, Expected=2773.500\n",
      ">Predicted=2773.500, Expected=2820.600\n",
      ">Predicted=2820.600, Expected=2781.600\n",
      ">Predicted=2781.600, Expected=2770.700\n",
      ">Predicted=2770.700, Expected=2666.400\n",
      ">Predicted=2666.400, Expected=2771.300\n",
      ">Predicted=2771.300, Expected=2860.400\n",
      ">Predicted=2860.400, Expected=2874.500\n",
      ">Predicted=2874.500, Expected=2807.700\n",
      ">Predicted=2807.700, Expected=2816.900\n",
      ">Predicted=2816.900, Expected=2837.600\n",
      ">Predicted=2837.600, Expected=2801.700\n",
      ">Predicted=2801.700, Expected=2798.800\n",
      ">Predicted=2798.800, Expected=2798.000\n",
      ">Predicted=2798.000, Expected=2792.400\n",
      ">Predicted=2792.400, Expected=2785.100\n",
      ">Predicted=2785.100, Expected=2772.300\n",
      ">Predicted=2772.300, Expected=2760.500\n",
      ">Predicted=2760.500, Expected=2767.200\n",
      ">Predicted=2767.200, Expected=2764.300\n",
      ">Predicted=2764.300, Expected=2764.300\n",
      ">Predicted=2764.300, Expected=2767.900\n",
      ">Predicted=2767.900, Expected=2763.400\n",
      ">Predicted=2763.400, Expected=2771.000\n",
      ">Predicted=2771.000, Expected=2758.200\n",
      ">Predicted=2758.200, Expected=2751.800\n",
      ">Predicted=2751.800, Expected=2753.300\n",
      ">Predicted=2753.300, Expected=2742.150\n",
      ">Predicted=2742.150, Expected=2731.000\n",
      ">Predicted=2731.000, Expected=2771.900\n",
      ">Predicted=2771.900, Expected=2801.950\n",
      ">Predicted=2801.950, Expected=2832.000\n",
      ">Predicted=2832.000, Expected=2806.800\n",
      ">Predicted=2806.800, Expected=2770.100\n",
      ">Predicted=2770.100, Expected=2665.400\n",
      ">Predicted=2665.400, Expected=2768.700\n",
      ">Predicted=2768.700, Expected=2848.000\n",
      ">Predicted=2848.000, Expected=2851.900\n",
      ">Predicted=2851.900, Expected=2863.400\n",
      ">Predicted=2863.400, Expected=2729.400\n",
      ">Predicted=2729.400, Expected=2728.900\n",
      ">Predicted=2728.900, Expected=2728.900\n",
      ">Predicted=2728.900, Expected=2728.700\n",
      ">Predicted=2728.700, Expected=2694.800\n",
      ">Predicted=2694.800, Expected=2698.600\n",
      ">Predicted=2698.600, Expected=2705.700\n",
      ">Predicted=2705.700, Expected=2716.200\n",
      ">Predicted=2716.200, Expected=2717.600\n",
      ">Predicted=2717.600, Expected=2717.500\n",
      ">Predicted=2717.500, Expected=2710.800\n",
      ">Predicted=2710.800, Expected=2707.500\n",
      ">Predicted=2707.500, Expected=2712.300\n",
      ">Predicted=2712.300, Expected=2698.300\n",
      ">Predicted=2698.300, Expected=2696.200\n",
      ">Predicted=2696.200, Expected=2694.500\n",
      ">Predicted=2694.500, Expected=2694.500\n",
      ">Predicted=2694.500, Expected=2692.700\n",
      ">Predicted=2692.700, Expected=2692.700\n",
      ">Predicted=2692.700, Expected=2690.100\n",
      ">Predicted=2690.100, Expected=2722.700\n",
      ">Predicted=2722.700, Expected=2762.400\n",
      ">Predicted=2762.400, Expected=2798.650\n",
      ">Predicted=2798.650, Expected=2834.900\n",
      ">Predicted=2834.900, Expected=2815.000\n",
      ">Predicted=2815.000, Expected=2770.100\n",
      ">Predicted=2770.100, Expected=2668.000\n",
      ">Predicted=2668.000, Expected=2768.700\n",
      ">Predicted=2768.700, Expected=2818.300\n",
      ">Predicted=2818.300, Expected=2850.000\n",
      ">Predicted=2850.000, Expected=2859.500\n",
      ">Predicted=2859.500, Expected=2683.900\n",
      ">Predicted=2683.900, Expected=2681.800\n",
      ">Predicted=2681.800, Expected=2651.200\n",
      ">Predicted=2651.200, Expected=2637.900\n",
      ">Predicted=2637.900, Expected=2651.800\n",
      ">Predicted=2651.800, Expected=2653.800\n",
      ">Predicted=2653.800, Expected=2653.700\n",
      ">Predicted=2653.700, Expected=2665.000\n",
      ">Predicted=2665.000, Expected=2675.800\n",
      ">Predicted=2675.800, Expected=2681.900\n",
      ">Predicted=2681.900, Expected=2674.600\n",
      ">Predicted=2674.600, Expected=2699.700\n",
      ">Predicted=2699.700, Expected=2699.600\n",
      ">Predicted=2699.600, Expected=2699.600\n",
      ">Predicted=2699.600, Expected=2718.300\n",
      ">Predicted=2718.300, Expected=2707.400\n",
      ">Predicted=2707.400, Expected=2734.600\n",
      ">Predicted=2734.600, Expected=2737.600\n",
      ">Predicted=2737.600, Expected=2725.600\n",
      ">Predicted=2725.600, Expected=2679.600\n",
      ">Predicted=2679.600, Expected=2715.100\n",
      ">Predicted=2715.100, Expected=2755.400\n",
      ">Predicted=2755.400, Expected=2772.100\n",
      ">Predicted=2772.100, Expected=2837.200\n",
      ">Predicted=2837.200, Expected=2815.300\n",
      ">Predicted=2815.300, Expected=2772.900\n",
      ">Predicted=2772.900, Expected=2679.600\n",
      ">Predicted=2679.600, Expected=2768.700\n",
      ">Predicted=2768.700, Expected=2829.800\n",
      ">Predicted=2829.800, Expected=2819.900\n",
      ">Predicted=2819.900, Expected=2859.500\n",
      ">Predicted=2859.500, Expected=2763.100\n",
      ">Predicted=2763.100, Expected=2764.200\n",
      ">Predicted=2764.200, Expected=2761.500\n",
      ">Predicted=2761.500, Expected=2761.500\n",
      ">Predicted=2761.500, Expected=2797.000\n",
      ">Predicted=2797.000, Expected=2797.100\n",
      ">Predicted=2797.100, Expected=2781.800\n",
      ">Predicted=2781.800, Expected=2779.700\n",
      ">Predicted=2779.700, Expected=2779.500\n",
      ">Predicted=2779.500, Expected=2779.500\n",
      ">Predicted=2779.500, Expected=2779.700\n",
      ">Predicted=2779.700, Expected=2807.400\n",
      ">Predicted=2807.400, Expected=2802.500\n",
      ">Predicted=2802.500, Expected=2775.400\n",
      ">Predicted=2775.400, Expected=2760.100\n",
      ">Predicted=2760.100, Expected=2773.800\n",
      ">Predicted=2773.800, Expected=2775.100\n",
      ">Predicted=2775.100, Expected=2775.100\n",
      ">Predicted=2775.100, Expected=2701.700\n",
      ">Predicted=2701.700, Expected=2731.800\n",
      ">Predicted=2731.800, Expected=2761.900\n",
      ">Predicted=2761.900, Expected=2792.000\n",
      ">Predicted=2792.000, Expected=2844.700\n",
      ">Predicted=2844.700, Expected=2815.400\n",
      ">Predicted=2815.400, Expected=2767.000\n",
      ">Predicted=2767.000, Expected=2688.000\n",
      ">Predicted=2688.000, Expected=2786.700\n",
      ">Predicted=2786.700, Expected=2847.100\n",
      ">Predicted=2847.100, Expected=2814.000\n",
      ">Predicted=2814.000, Expected=2894.600\n",
      ">Predicted=2894.600, Expected=2879.800\n",
      ">Predicted=2879.800, Expected=2879.800\n",
      ">Predicted=2879.800, Expected=2903.000\n",
      ">Predicted=2903.000, Expected=2880.900\n",
      ">Predicted=2880.900, Expected=2888.600\n",
      ">Predicted=2888.600, Expected=2902.500\n",
      ">Predicted=2902.500, Expected=2893.400\n",
      ">Predicted=2893.400, Expected=2892.700\n",
      ">Predicted=2892.700, Expected=2892.700\n",
      ">Predicted=2892.700, Expected=2891.300\n",
      ">Predicted=2891.300, Expected=2892.700\n",
      ">Predicted=2892.700, Expected=2899.500\n",
      ">Predicted=2899.500, Expected=2893.700\n",
      ">Predicted=2893.700, Expected=2894.900\n",
      ">Predicted=2894.900, Expected=2894.700\n",
      ">Predicted=2894.700, Expected=2894.500\n",
      ">Predicted=2894.500, Expected=2906.000\n",
      ">Predicted=2906.000, Expected=2893.600\n",
      ">Predicted=2893.600, Expected=2892.700\n",
      ">Predicted=2892.700, Expected=2703.700\n",
      ">Predicted=2703.700, Expected=2744.300\n",
      ">Predicted=2744.300, Expected=2784.900\n",
      ">Predicted=2784.900, Expected=2825.500\n",
      ">Predicted=2825.500, Expected=2854.500\n",
      ">Predicted=2854.500, Expected=2818.400\n",
      ">Predicted=2818.400, Expected=2744.800\n",
      ">Predicted=2744.800, Expected=2686.400\n",
      ">Predicted=2686.400, Expected=2791.000\n",
      ">Predicted=2791.000, Expected=2898.700\n",
      ">Predicted=2898.700, Expected=2820.300\n",
      ">Predicted=2820.300, Expected=2884.300\n",
      ">Predicted=2884.300, Expected=2786.700\n",
      ">Predicted=2786.700, Expected=2806.000\n",
      ">Predicted=2806.000, Expected=2797.300\n",
      ">Predicted=2797.300, Expected=2816.500\n",
      ">Predicted=2816.500, Expected=2814.700\n",
      ">Predicted=2814.700, Expected=2814.700\n",
      ">Predicted=2814.700, Expected=2808.300\n",
      ">Predicted=2808.300, Expected=2800.200\n",
      ">Predicted=2800.200, Expected=2800.300\n",
      ">Predicted=2800.300, Expected=2796.000\n",
      ">Predicted=2796.000, Expected=2770.600\n",
      ">Predicted=2770.600, Expected=2771.000\n",
      ">Predicted=2771.000, Expected=2772.100\n",
      ">Predicted=2772.100, Expected=2774.900\n",
      ">Predicted=2774.900, Expected=2759.600\n",
      ">Predicted=2759.600, Expected=2760.700\n",
      ">Predicted=2760.700, Expected=2740.400\n",
      ">Predicted=2740.400, Expected=2736.600\n",
      ">Predicted=2736.600, Expected=2709.600\n",
      ">Predicted=2709.600, Expected=2729.000\n",
      ">Predicted=2729.000, Expected=2752.100\n",
      ">Predicted=2752.100, Expected=2811.300\n",
      ">Predicted=2811.300, Expected=2851.100\n",
      ">Predicted=2851.100, Expected=2812.900\n",
      ">Predicted=2812.900, Expected=2735.100\n",
      ">Predicted=2735.100, Expected=2686.400\n",
      ">Predicted=2686.400, Expected=2784.900\n",
      ">Predicted=2784.900, Expected=2881.500\n",
      ">Predicted=2881.500, Expected=2811.300\n",
      ">Predicted=2811.300, Expected=2872.500\n",
      ">Predicted=2872.500, Expected=2851.600\n",
      ">Predicted=2851.600, Expected=2860.300\n",
      ">Predicted=2860.300, Expected=2860.400\n",
      ">Predicted=2860.400, Expected=2860.400\n",
      ">Predicted=2860.400, Expected=2863.900\n",
      ">Predicted=2863.900, Expected=2818.200\n",
      ">Predicted=2818.200, Expected=2811.900\n",
      ">Predicted=2811.900, Expected=2839.000\n",
      ">Predicted=2839.000, Expected=2827.900\n",
      ">Predicted=2827.900, Expected=2827.700\n",
      ">Predicted=2827.700, Expected=2827.300\n",
      ">Predicted=2827.300, Expected=2851.900\n",
      ">Predicted=2851.900, Expected=2857.400\n",
      ">Predicted=2857.400, Expected=2849.000\n",
      ">Predicted=2849.000, Expected=2871.500\n",
      ">Predicted=2871.500, Expected=2869.000\n",
      ">Predicted=2869.000, Expected=2869.000\n",
      ">Predicted=2869.000, Expected=2869.000\n",
      ">Predicted=2869.000, Expected=2859.100\n",
      ">Predicted=2859.100, Expected=2865.800\n",
      ">Predicted=2865.800, Expected=3024.500\n",
      ">Predicted=3024.500, Expected=2948.500\n",
      ">Predicted=2948.500, Expected=2858.700\n",
      ">Predicted=2858.700, Expected=2853.400\n",
      ">Predicted=2853.400, Expected=2915.300\n",
      ">Predicted=2915.300, Expected=3061.500\n",
      ">Predicted=3061.500, Expected=3208.900\n",
      ">Predicted=3208.900, Expected=3507.200\n",
      ">Predicted=3507.200, Expected=3378.400\n",
      ">Predicted=3378.400, Expected=3424.800\n",
      ">Predicted=3424.800, Expected=3372.200\n",
      ">Predicted=3372.200, Expected=2909.300\n",
      ">Predicted=2909.300, Expected=2933.800\n",
      ">Predicted=2933.800, Expected=2946.500\n",
      ">Predicted=2946.500, Expected=2947.800\n",
      ">Predicted=2947.800, Expected=2944.500\n",
      ">Predicted=2944.500, Expected=2931.800\n",
      ">Predicted=2931.800, Expected=2930.700\n",
      ">Predicted=2930.700, Expected=2930.700\n",
      ">Predicted=2930.700, Expected=2925.600\n",
      ">Predicted=2925.600, Expected=2939.900\n",
      ">Predicted=2939.900, Expected=2932.000\n",
      ">Predicted=2932.000, Expected=2918.200\n",
      ">Predicted=2918.200, Expected=2957.600\n",
      ">Predicted=2957.600, Expected=2969.100\n",
      ">Predicted=2969.100, Expected=2969.100\n",
      ">Predicted=2969.100, Expected=2971.000\n",
      ">Predicted=2971.000, Expected=3006.200\n",
      ">Predicted=3006.200, Expected=3003.000\n",
      ">Predicted=3003.000, Expected=3008.600\n",
      ">Predicted=3008.600, Expected=2879.600\n",
      ">Predicted=2879.600, Expected=3023.500\n",
      ">Predicted=3023.500, Expected=2947.300\n",
      ">Predicted=2947.300, Expected=2857.000\n",
      ">Predicted=2857.000, Expected=2832.800\n",
      ">Predicted=2832.800, Expected=2915.400\n",
      ">Predicted=2915.400, Expected=3125.800\n",
      ">Predicted=3125.800, Expected=3221.500\n",
      ">Predicted=3221.500, Expected=3534.200\n",
      ">Predicted=3534.200, Expected=3424.300\n",
      ">Predicted=3424.300, Expected=3427.200\n",
      ">Predicted=3427.200, Expected=3364.800\n",
      ">Predicted=3364.800, Expected=2969.400\n",
      ">Predicted=2969.400, Expected=2992.900\n",
      ">Predicted=2992.900, Expected=3026.900\n",
      ">Predicted=3026.900, Expected=3025.700\n",
      ">Predicted=3025.700, Expected=3025.500\n",
      ">Predicted=3025.500, Expected=3040.600\n",
      ">Predicted=3040.600, Expected=3066.700\n",
      ">Predicted=3066.700, Expected=3056.600\n",
      ">Predicted=3056.600, Expected=3030.900\n",
      ">Predicted=3030.900, Expected=3026.600\n",
      ">Predicted=3026.600, Expected=3027.700\n",
      ">Predicted=3027.700, Expected=3027.700\n",
      ">Predicted=3027.700, Expected=3019.400\n",
      ">Predicted=3019.400, Expected=3026.400\n",
      ">Predicted=3026.400, Expected=3013.700\n",
      ">Predicted=3013.700, Expected=2987.400\n",
      ">Predicted=2987.400, Expected=2908.700\n",
      ">Predicted=2908.700, Expected=3023.300\n",
      ">Predicted=3023.300, Expected=2947.300\n",
      ">Predicted=2947.300, Expected=2832.700\n",
      ">Predicted=2832.700, Expected=2837.900\n",
      ">Predicted=2837.900, Expected=2941.200\n",
      ">Predicted=2941.200, Expected=3131.700\n",
      ">Predicted=3131.700, Expected=3221.500\n",
      ">Predicted=3221.500, Expected=3580.100\n",
      ">Predicted=3580.100, Expected=3433.400\n",
      ">Predicted=3433.400, Expected=3427.200\n",
      ">Predicted=3427.200, Expected=3407.300\n",
      ">Predicted=3407.300, Expected=2932.200\n",
      ">Predicted=2932.200, Expected=2886.000\n",
      ">Predicted=2886.000, Expected=2880.800\n",
      ">Predicted=2880.800, Expected=2883.000\n",
      ">Predicted=2883.000, Expected=2883.000\n",
      ">Predicted=2883.000, Expected=2867.300\n",
      ">Predicted=2867.300, Expected=2894.300\n",
      ">Predicted=2894.300, Expected=2889.800\n",
      ">Predicted=2889.800, Expected=2885.800\n",
      ">Predicted=2885.800, Expected=2917.000\n",
      ">Predicted=2917.000, Expected=2915.900\n",
      ">Predicted=2915.900, Expected=2915.800\n",
      ">Predicted=2915.800, Expected=2925.700\n",
      ">Predicted=2925.700, Expected=2915.400\n",
      ">Predicted=2915.400, Expected=2900.300\n",
      ">Predicted=2900.300, Expected=2865.700\n",
      ">Predicted=2865.700, Expected=2878.100\n",
      ">Predicted=2878.100, Expected=2880.300\n",
      ">Predicted=2880.300, Expected=2880.300\n",
      ">Predicted=2880.300, Expected=2867.000\n",
      ">Predicted=2867.000, Expected=3022.700\n",
      ">Predicted=3022.700, Expected=2930.300\n",
      ">Predicted=2930.300, Expected=2864.200\n",
      ">Predicted=2864.200, Expected=2839.900\n",
      ">Predicted=2839.900, Expected=2950.300\n",
      ">Predicted=2950.300, Expected=3115.100\n",
      ">Predicted=3115.100, Expected=3221.500\n",
      ">Predicted=3221.500, Expected=3590.400\n",
      ">Predicted=3590.400, Expected=3421.300\n",
      ">Predicted=3421.300, Expected=3430.400\n",
      ">Predicted=3430.400, Expected=3383.700\n",
      ">Predicted=3383.700, Expected=2865.900\n",
      ">Predicted=2865.900, Expected=2866.200\n",
      ">Predicted=2866.200, Expected=2871.900\n",
      ">Predicted=2871.900, Expected=2849.000\n",
      ">Predicted=2849.000, Expected=2840.000\n",
      ">Predicted=2840.000, Expected=2841.700\n",
      ">Predicted=2841.700, Expected=2840.400\n",
      ">Predicted=2840.400, Expected=2841.500\n",
      ">Predicted=2841.500, Expected=2841.500\n",
      ">Predicted=2841.500, Expected=2853.300\n",
      ">Predicted=2853.300, Expected=2849.000\n",
      ">Predicted=2849.000, Expected=2867.700\n",
      ">Predicted=2867.700, Expected=2878.100\n",
      ">Predicted=2878.100, Expected=2883.000\n",
      ">Predicted=2883.000, Expected=2883.200\n",
      ">Predicted=2883.200, Expected=2883.200\n",
      ">Predicted=2883.200, Expected=2868.200\n",
      ">Predicted=2868.200, Expected=2866.100\n",
      ">Predicted=2866.100, Expected=2868.000\n",
      ">Predicted=2868.000, Expected=3017.900\n",
      ">Predicted=3017.900, Expected=2914.200\n",
      ">Predicted=2914.200, Expected=2870.100\n",
      ">Predicted=2870.100, Expected=2839.900\n",
      ">Predicted=2839.900, Expected=2963.600\n",
      ">Predicted=2963.600, Expected=3076.500\n",
      ">Predicted=3076.500, Expected=3340.200\n",
      ">Predicted=3340.200, Expected=3503.400\n",
      ">Predicted=3503.400, Expected=3419.500\n",
      ">Predicted=3419.500, Expected=3372.300\n",
      ">Predicted=3372.300, Expected=3374.500\n",
      ">Predicted=3374.500, Expected=2942.400\n",
      ">Predicted=2942.400, Expected=2928.200\n",
      ">Predicted=2928.200, Expected=2923.600\n",
      ">Predicted=2923.600, Expected=2899.200\n",
      ">Predicted=2899.200, Expected=2885.800\n",
      ">Predicted=2885.800, Expected=2885.400\n",
      ">Predicted=2885.400, Expected=2885.400\n",
      ">Predicted=2885.400, Expected=2866.300\n",
      ">Predicted=2866.300, Expected=2850.500\n",
      ">Predicted=2850.500, Expected=2848.600\n",
      ">Predicted=2848.600, Expected=2871.000\n",
      ">Predicted=2871.000, Expected=2862.200\n",
      ">Predicted=2862.200, Expected=2861.600\n",
      ">Predicted=2861.600, Expected=2861.200\n",
      ">Predicted=2861.200, Expected=2866.600\n",
      ">Predicted=2866.600, Expected=2861.000\n",
      ">Predicted=2861.000, Expected=2868.400\n",
      ">Predicted=2868.400, Expected=2885.000\n",
      ">Predicted=2885.000, Expected=2915.900\n",
      ">Predicted=2915.900, Expected=2868.100\n",
      ">Predicted=2868.100, Expected=3005.200\n",
      ">Predicted=3005.200, Expected=2893.200\n",
      ">Predicted=2893.200, Expected=2870.400\n",
      ">Predicted=2870.400, Expected=2847.100\n",
      ">Predicted=2847.100, Expected=2956.200\n",
      ">Predicted=2956.200, Expected=3073.700\n",
      ">Predicted=3073.700, Expected=3354.500\n",
      ">Predicted=3354.500, Expected=3463.900\n",
      ">Predicted=3463.900, Expected=3419.500\n",
      ">Predicted=3419.500, Expected=3400.300\n",
      ">Predicted=3400.300, Expected=3340.800\n",
      ">Predicted=3340.800, Expected=2994.400\n",
      ">Predicted=2994.400, Expected=3008.800\n",
      ">Predicted=3008.800, Expected=3008.700\n",
      ">Predicted=3008.700, Expected=3008.700\n",
      ">Predicted=3008.700, Expected=3004.000\n",
      ">Predicted=3004.000, Expected=3002.600\n",
      ">Predicted=3002.600, Expected=3026.700\n",
      ">Predicted=3026.700, Expected=3099.200\n",
      ">Predicted=3099.200, Expected=3125.800\n",
      ">Predicted=3125.800, Expected=3124.700\n",
      ">Predicted=3124.700, Expected=3124.700\n",
      ">Predicted=3124.700, Expected=3155.900\n",
      ">Predicted=3155.900, Expected=3167.200\n",
      ">Predicted=3167.200, Expected=3129.600\n",
      ">Predicted=3129.600, Expected=3122.600\n",
      ">Predicted=3122.600, Expected=3123.100\n",
      ">Predicted=3123.100, Expected=3120.500\n",
      ">Predicted=3120.500, Expected=3120.500\n",
      ">Predicted=3120.500, Expected=2888.100\n",
      ">Predicted=2888.100, Expected=3000.300\n",
      ">Predicted=3000.300, Expected=2898.300\n",
      ">Predicted=2898.300, Expected=2870.400\n",
      ">Predicted=2870.400, Expected=2870.500\n",
      ">Predicted=2870.500, Expected=2987.100\n",
      ">Predicted=2987.100, Expected=3073.700\n",
      ">Predicted=3073.700, Expected=3415.900\n",
      ">Predicted=3415.900, Expected=3468.500\n",
      ">Predicted=3468.500, Expected=3404.000\n",
      ">Predicted=3404.000, Expected=3346.000\n",
      ">Predicted=3346.000, Expected=3341.100\n",
      ">Predicted=3341.100, Expected=3115.200\n",
      ">Predicted=3115.200, Expected=3115.200\n",
      ">Predicted=3115.200, Expected=3113.200\n",
      ">Predicted=3113.200, Expected=3094.400\n",
      ">Predicted=3094.400, Expected=3148.000\n",
      ">Predicted=3148.000, Expected=3187.000\n",
      ">Predicted=3187.000, Expected=3152.800\n",
      ">Predicted=3152.800, Expected=3154.100\n",
      ">Predicted=3154.100, Expected=3154.100\n",
      ">Predicted=3154.100, Expected=3154.700\n",
      ">Predicted=3154.700, Expected=3144.300\n",
      ">Predicted=3144.300, Expected=3156.100\n",
      ">Predicted=3156.100, Expected=3139.900\n",
      ">Predicted=3139.900, Expected=3133.900\n",
      ">Predicted=3133.900, Expected=3135.200\n",
      ">Predicted=3135.200, Expected=3135.200\n",
      ">Predicted=3135.200, Expected=3147.600\n",
      ">Predicted=3147.600, Expected=3163.100\n",
      ">Predicted=3163.100, Expected=3137.900\n",
      ">Predicted=3137.900, Expected=2893.600\n",
      ">Predicted=2893.600, Expected=3005.900\n",
      ">Predicted=3005.900, Expected=2922.200\n",
      ">Predicted=2922.200, Expected=2898.100\n",
      ">Predicted=2898.100, Expected=2869.200\n",
      ">Predicted=2869.200, Expected=2986.500\n",
      ">Predicted=2986.500, Expected=3068.100\n",
      ">Predicted=3068.100, Expected=3403.200\n",
      ">Predicted=3403.200, Expected=3468.500\n",
      ">Predicted=3468.500, Expected=3443.800\n",
      ">Predicted=3443.800, Expected=3349.000\n",
      ">Predicted=3349.000, Expected=3341.100\n",
      ">Predicted=3341.100, Expected=3417.600\n",
      ">Predicted=3417.600, Expected=3473.000\n",
      ">Predicted=3473.000, Expected=3493.300\n",
      ">Predicted=3493.300, Expected=3462.600\n",
      ">Predicted=3462.600, Expected=3453.600\n",
      ">Predicted=3453.600, Expected=3453.500\n",
      ">Predicted=3453.500, Expected=3444.200\n",
      ">Predicted=3444.200, Expected=3461.100\n",
      ">Predicted=3461.100, Expected=3444.800\n",
      ">Predicted=3444.800, Expected=3459.300\n",
      ">Predicted=3459.300, Expected=3519.300\n",
      ">Predicted=3519.300, Expected=3518.500\n",
      ">Predicted=3518.500, Expected=3518.500\n",
      ">Predicted=3518.500, Expected=3520.700\n",
      ">Predicted=3520.700, Expected=3542.000\n",
      ">Predicted=3542.000, Expected=3546.900\n",
      ">Predicted=3546.900, Expected=3516.400\n",
      ">Predicted=3516.400, Expected=3508.900\n",
      ">Predicted=3508.900, Expected=3507.200\n",
      ">Predicted=3507.200, Expected=2924.300\n",
      ">Predicted=2924.300, Expected=3001.500\n",
      ">Predicted=3001.500, Expected=2917.500\n",
      ">Predicted=2917.500, Expected=2899.800\n",
      ">Predicted=2899.800, Expected=2886.000\n",
      ">Predicted=2886.000, Expected=2986.500\n",
      ">Predicted=2986.500, Expected=3073.400\n",
      ">Predicted=3073.400, Expected=3414.700\n",
      ">Predicted=3414.700, Expected=3455.700\n",
      ">Predicted=3455.700, Expected=3439.800\n",
      ">Predicted=3439.800, Expected=3341.200\n",
      ">Predicted=3341.200, Expected=3327.400\n",
      ">Predicted=3327.400, Expected=3391.600\n",
      ">Predicted=3391.600, Expected=3395.000\n",
      ">Predicted=3395.000, Expected=3395.000\n",
      ">Predicted=3395.000, Expected=3454.100\n",
      ">Predicted=3454.100, Expected=3441.700\n",
      ">Predicted=3441.700, Expected=3413.500\n",
      ">Predicted=3413.500, Expected=3434.800\n",
      ">Predicted=3434.800, Expected=3466.800\n",
      ">Predicted=3466.800, Expected=3466.100\n",
      ">Predicted=3466.100, Expected=3466.100\n",
      ">Predicted=3466.100, Expected=3463.100\n",
      ">Predicted=3463.100, Expected=3490.500\n",
      ">Predicted=3490.500, Expected=3429.900\n",
      ">Predicted=3429.900, Expected=3429.300\n",
      ">Predicted=3429.300, Expected=3396.900\n",
      ">Predicted=3396.900, Expected=3387.800\n",
      ">Predicted=3387.800, Expected=3394.700\n",
      ">Predicted=3394.700, Expected=3340.600\n",
      ">Predicted=3340.600, Expected=2911.400\n",
      ">Predicted=2911.400, Expected=3001.500\n",
      ">Predicted=3001.500, Expected=2917.800\n",
      ">Predicted=2917.800, Expected=2905.100\n",
      ">Predicted=2905.100, Expected=2888.200\n",
      ">Predicted=2888.200, Expected=2963.700\n",
      ">Predicted=2963.700, Expected=3112.100\n",
      ">Predicted=3112.100, Expected=3414.800\n",
      ">Predicted=3414.800, Expected=3431.700\n",
      ">Predicted=3431.700, Expected=3403.100\n",
      ">Predicted=3403.100, Expected=3341.200\n",
      ">Predicted=3341.200, Expected=3332.000\n",
      ">Predicted=3332.000, Expected=3391.800\n",
      ">Predicted=3391.800, Expected=3410.200\n",
      ">Predicted=3410.200, Expected=3399.600\n",
      ">Predicted=3399.600, Expected=3413.600\n",
      ">Predicted=3413.600, Expected=3409.500\n",
      ">Predicted=3409.500, Expected=3401.400\n",
      ">Predicted=3401.400, Expected=3400.600\n",
      ">Predicted=3400.600, Expected=3400.600\n",
      ">Predicted=3400.600, Expected=3378.500\n",
      ">Predicted=3378.500, Expected=3385.100\n",
      ">Predicted=3385.100, Expected=3386.700\n",
      ">Predicted=3386.700, Expected=3423.600\n",
      ">Predicted=3423.600, Expected=3421.700\n",
      ">Predicted=3421.700, Expected=3421.000\n",
      ">Predicted=3421.000, Expected=3421.000\n",
      ">Predicted=3421.000, Expected=3390.300\n",
      ">Predicted=3390.300, Expected=3388.400\n",
      ">Predicted=3388.400, Expected=3403.000\n",
      ">Predicted=3403.000, Expected=3450.800\n",
      ">Predicted=3450.800, Expected=2909.700\n",
      ">Predicted=2909.700, Expected=2992.500\n",
      ">Predicted=2992.500, Expected=2895.800\n",
      ">Predicted=2895.800, Expected=2864.000\n",
      ">Predicted=2864.000, Expected=2886.800\n",
      ">Predicted=2886.800, Expected=2955.500\n",
      ">Predicted=2955.500, Expected=3092.900\n",
      ">Predicted=3092.900, Expected=3414.800\n",
      ">Predicted=3414.800, Expected=3433.800\n",
      ">Predicted=3433.800, Expected=3385.000\n",
      ">Predicted=3385.000, Expected=3347.700\n",
      ">Predicted=3347.700, Expected=3351.400\n",
      ">Predicted=3351.400, Expected=3390.800\n",
      ">Predicted=3390.800, Expected=3399.300\n",
      ">Predicted=3399.300, Expected=3373.200\n",
      ">Predicted=3373.200, Expected=3376.300\n",
      ">Predicted=3376.300, Expected=3376.300\n",
      ">Predicted=3376.300, Expected=3397.400\n",
      ">Predicted=3397.400, Expected=3397.200\n",
      ">Predicted=3397.200, Expected=3393.100\n",
      ">Predicted=3393.100, Expected=3374.500\n",
      ">Predicted=3374.500, Expected=3370.200\n",
      ">Predicted=3370.200, Expected=3370.100\n",
      ">Predicted=3370.100, Expected=3370.100\n",
      ">Predicted=3370.100, Expected=3348.400\n",
      ">Predicted=3348.400, Expected=3355.100\n",
      ">Predicted=3355.100, Expected=3327.600\n",
      ">Predicted=3327.600, Expected=3341.900\n",
      ">Predicted=3341.900, Expected=3372.200\n",
      ">Predicted=3372.200, Expected=3372.200\n",
      ">Predicted=3372.200, Expected=2909.300\n",
      ">Predicted=2909.300, Expected=2967.900\n",
      ">Predicted=2967.900, Expected=2907.900\n",
      ">Predicted=2907.900, Expected=2865.000\n",
      ">Predicted=2865.000, Expected=2886.800\n",
      ">Predicted=2886.800, Expected=2971.100\n",
      ">Predicted=2971.100, Expected=3113.000\n",
      ">Predicted=3113.000, Expected=3459.000\n",
      ">Predicted=3459.000, Expected=3415.100\n",
      ">Predicted=3415.100, Expected=3391.900\n",
      ">Predicted=3391.900, Expected=3362.900\n",
      ">Predicted=3362.900, Expected=3327.800\n",
      ">Predicted=3327.800, Expected=3352.800\n",
      ">Predicted=3352.800, Expected=3348.000\n",
      ">Predicted=3348.000, Expected=3348.000\n",
      ">Predicted=3348.000, Expected=3360.000\n",
      ">Predicted=3360.000, Expected=3363.900\n",
      ">Predicted=3363.900, Expected=3362.300\n",
      ">Predicted=3362.300, Expected=3382.400\n",
      ">Predicted=3382.400, Expected=3371.800\n",
      ">Predicted=3371.800, Expected=3373.700\n",
      ">Predicted=3373.700, Expected=3375.100\n",
      ">Predicted=3375.100, Expected=3398.000\n",
      ">Predicted=3398.000, Expected=3431.000\n",
      ">Predicted=3431.000, Expected=3428.000\n",
      ">Predicted=3428.000, Expected=3455.900\n",
      ">Predicted=3455.900, Expected=3468.900\n",
      ">Predicted=3468.900, Expected=3464.200\n",
      ">Predicted=3464.200, Expected=3464.200\n",
      ">Predicted=3464.200, Expected=3469.400\n",
      ">Predicted=3469.400, Expected=3477.300\n",
      ">Predicted=3477.300, Expected=3477.600\n",
      ">Predicted=3477.600, Expected=3649.300\n",
      ">Predicted=3649.300, Expected=3672.800\n",
      ">Predicted=3672.800, Expected=3909.000\n",
      ">Predicted=3909.000, Expected=4145.900\n",
      ">Predicted=4145.900, Expected=4216.300\n",
      ">Predicted=4216.300, Expected=4293.300\n",
      ">Predicted=4293.300, Expected=4748.000\n",
      ">Predicted=4748.000, Expected=4621.700\n",
      ">Predicted=4621.700, Expected=4481.000\n",
      ">Predicted=4481.000, Expected=4505.300\n",
      ">Predicted=4505.300, Expected=4280.800\n",
      ">Predicted=4280.800, Expected=3516.100\n",
      ">Predicted=3516.100, Expected=3517.200\n",
      ">Predicted=3517.200, Expected=3529.000\n",
      ">Predicted=3529.000, Expected=3536.500\n",
      ">Predicted=3536.500, Expected=3559.000\n",
      ">Predicted=3559.000, Expected=3550.600\n",
      ">Predicted=3550.600, Expected=3550.600\n",
      ">Predicted=3550.600, Expected=3558.800\n",
      ">Predicted=3558.800, Expected=3562.400\n",
      ">Predicted=3562.400, Expected=3555.400\n",
      ">Predicted=3555.400, Expected=3582.800\n",
      ">Predicted=3582.800, Expected=3596.100\n",
      ">Predicted=3596.100, Expected=3596.100\n",
      ">Predicted=3596.100, Expected=3596.100\n",
      ">Predicted=3596.100, Expected=3625.800\n",
      ">Predicted=3625.800, Expected=3588.700\n",
      ">Predicted=3588.700, Expected=3607.600\n",
      ">Predicted=3607.600, Expected=3625.100\n",
      ">Predicted=3625.100, Expected=3646.300\n",
      ">Predicted=3646.300, Expected=3495.600\n",
      ">Predicted=3495.600, Expected=3649.300\n",
      ">Predicted=3649.300, Expected=3716.300\n",
      ">Predicted=3716.300, Expected=3951.900\n",
      ">Predicted=3951.900, Expected=4140.000\n",
      ">Predicted=4140.000, Expected=4160.600\n",
      ">Predicted=4160.600, Expected=4260.900\n",
      ">Predicted=4260.900, Expected=4748.000\n",
      ">Predicted=4748.000, Expected=4565.800\n",
      ">Predicted=4565.800, Expected=4474.300\n",
      ">Predicted=4474.300, Expected=4530.200\n",
      ">Predicted=4530.200, Expected=4330.200\n",
      ">Predicted=4330.200, Expected=3607.300\n",
      ">Predicted=3607.300, Expected=3636.200\n",
      ">Predicted=3636.200, Expected=3638.500\n",
      ">Predicted=3638.500, Expected=3638.500\n",
      ">Predicted=3638.500, Expected=3621.300\n",
      ">Predicted=3621.300, Expected=3678.500\n",
      ">Predicted=3678.500, Expected=3696.100\n",
      ">Predicted=3696.100, Expected=3741.400\n",
      ">Predicted=3741.400, Expected=3796.000\n",
      ">Predicted=3796.000, Expected=3792.900\n",
      ">Predicted=3792.900, Expected=3792.900\n",
      ">Predicted=3792.900, Expected=3830.100\n",
      ">Predicted=3830.100, Expected=3801.800\n",
      ">Predicted=3801.800, Expected=3790.100\n",
      ">Predicted=3790.100, Expected=3772.900\n",
      ">Predicted=3772.900, Expected=3670.300\n",
      ">Predicted=3670.300, Expected=3672.800\n",
      ">Predicted=3672.800, Expected=3565.400\n",
      ">Predicted=3565.400, Expected=3610.800\n",
      ">Predicted=3610.800, Expected=3844.600\n",
      ">Predicted=3844.600, Expected=3979.100\n",
      ">Predicted=3979.100, Expected=4127.500\n",
      ">Predicted=4127.500, Expected=4106.500\n",
      ">Predicted=4106.500, Expected=4255.000\n",
      ">Predicted=4255.000, Expected=4769.800\n",
      ">Predicted=4769.800, Expected=4553.600\n",
      ">Predicted=4553.600, Expected=4472.600\n",
      ">Predicted=4472.600, Expected=4572.600\n",
      ">Predicted=4572.600, Expected=4364.600\n",
      ">Predicted=4364.600, Expected=3601.700\n",
      ">Predicted=3601.700, Expected=3631.300\n",
      ">Predicted=3631.300, Expected=3631.300\n",
      ">Predicted=3631.300, Expected=3569.300\n",
      ">Predicted=3569.300, Expected=3633.900\n",
      ">Predicted=3633.900, Expected=3591.500\n",
      ">Predicted=3591.500, Expected=3544.100\n",
      ">Predicted=3544.100, Expected=3607.300\n",
      ">Predicted=3607.300, Expected=3635.000\n",
      ">Predicted=3635.000, Expected=3635.000\n",
      ">Predicted=3635.000, Expected=3814.200\n",
      ">Predicted=3814.200, Expected=3969.800\n",
      ">Predicted=3969.800, Expected=3915.000\n",
      ">Predicted=3915.000, Expected=3907.800\n",
      ">Predicted=3907.800, Expected=3895.900\n",
      ">Predicted=3895.900, Expected=3894.100\n",
      ">Predicted=3894.100, Expected=3925.100\n",
      ">Predicted=3925.100, Expected=3927.500\n",
      ">Predicted=3927.500, Expected=3818.400\n",
      ">Predicted=3818.400, Expected=3573.500\n",
      ">Predicted=3573.500, Expected=3545.500\n",
      ">Predicted=3545.500, Expected=3869.800\n",
      ">Predicted=3869.800, Expected=3974.000\n",
      ">Predicted=3974.000, Expected=4138.500\n",
      ">Predicted=4138.500, Expected=4160.700\n",
      ">Predicted=4160.700, Expected=4254.400\n",
      ">Predicted=4254.400, Expected=4855.500\n",
      ">Predicted=4855.500, Expected=4543.700\n",
      ">Predicted=4543.700, Expected=4472.600\n",
      ">Predicted=4472.600, Expected=4524.600\n",
      ">Predicted=4524.600, Expected=4350.300\n",
      ">Predicted=4350.300, Expected=4204.100\n",
      ">Predicted=4204.100, Expected=4208.700\n",
      ">Predicted=4208.700, Expected=4225.100\n",
      ">Predicted=4225.100, Expected=4241.400\n",
      ">Predicted=4241.400, Expected=4142.300\n",
      ">Predicted=4142.300, Expected=4135.600\n",
      ">Predicted=4135.600, Expected=4135.600\n",
      ">Predicted=4135.600, Expected=4175.300\n",
      ">Predicted=4175.300, Expected=4160.100\n",
      ">Predicted=4160.100, Expected=4211.300\n",
      ">Predicted=4211.300, Expected=4229.700\n",
      ">Predicted=4229.700, Expected=4237.000\n",
      ">Predicted=4237.000, Expected=4230.500\n",
      ">Predicted=4230.500, Expected=4229.400\n",
      ">Predicted=4229.400, Expected=4193.500\n",
      ">Predicted=4193.500, Expected=4175.600\n",
      ">Predicted=4175.600, Expected=4146.500\n",
      ">Predicted=4146.500, Expected=4082.600\n",
      ">Predicted=4082.600, Expected=3573.500\n",
      ">Predicted=3573.500, Expected=3559.000\n",
      ">Predicted=3559.000, Expected=3962.800\n",
      ">Predicted=3962.800, Expected=3974.000\n",
      ">Predicted=3974.000, Expected=4154.100\n",
      ">Predicted=4154.100, Expected=4080.300\n",
      ">Predicted=4080.300, Expected=4254.400\n",
      ">Predicted=4254.400, Expected=4895.800\n",
      ">Predicted=4895.800, Expected=4544.800\n",
      ">Predicted=4544.800, Expected=4485.700\n",
      ">Predicted=4485.700, Expected=4631.000\n",
      ">Predicted=4631.000, Expected=4353.600\n",
      ">Predicted=4353.600, Expected=4153.400\n",
      ">Predicted=4153.400, Expected=4190.800\n",
      ">Predicted=4190.800, Expected=4244.300\n",
      ">Predicted=4244.300, Expected=4248.900\n",
      ">Predicted=4248.900, Expected=4248.900\n",
      ">Predicted=4248.900, Expected=4207.700\n",
      ">Predicted=4207.700, Expected=4244.300\n",
      ">Predicted=4244.300, Expected=4244.000\n",
      ">Predicted=4244.000, Expected=4189.200\n",
      ">Predicted=4189.200, Expected=4233.100\n",
      ">Predicted=4233.100, Expected=4235.400\n",
      ">Predicted=4235.400, Expected=4235.400\n",
      ">Predicted=4235.400, Expected=4211.300\n",
      ">Predicted=4211.300, Expected=4153.100\n",
      ">Predicted=4153.100, Expected=4172.600\n",
      ">Predicted=4172.600, Expected=4175.800\n",
      ">Predicted=4175.800, Expected=4194.800\n",
      ">Predicted=4194.800, Expected=4198.000\n",
      ">Predicted=4198.000, Expected=4198.000\n",
      ">Predicted=4198.000, Expected=3606.900\n",
      ">Predicted=3606.900, Expected=3582.500\n",
      ">Predicted=3582.500, Expected=4018.700\n",
      ">Predicted=4018.700, Expected=4063.100\n",
      ">Predicted=4063.100, Expected=4126.200\n",
      ">Predicted=4126.200, Expected=4086.500\n",
      ">Predicted=4086.500, Expected=4278.500\n",
      ">Predicted=4278.500, Expected=4966.300\n",
      ">Predicted=4966.300, Expected=4544.800\n",
      ">Predicted=4544.800, Expected=4456.800\n",
      ">Predicted=4456.800, Expected=4636.900\n",
      ">Predicted=4636.900, Expected=4353.600\n",
      ">Predicted=4353.600, Expected=4222.900\n",
      ">Predicted=4222.900, Expected=4222.900\n",
      ">Predicted=4222.900, Expected=4205.300\n",
      ">Predicted=4205.300, Expected=4233.900\n",
      ">Predicted=4233.900, Expected=4232.400\n",
      ">Predicted=4232.400, Expected=4229.500\n",
      ">Predicted=4229.500, Expected=4267.700\n",
      ">Predicted=4267.700, Expected=4263.400\n",
      ">Predicted=4263.400, Expected=4263.400\n",
      ">Predicted=4263.400, Expected=4273.200\n",
      ">Predicted=4273.200, Expected=4302.300\n",
      ">Predicted=4302.300, Expected=4294.900\n",
      ">Predicted=4294.900, Expected=4275.300\n",
      ">Predicted=4275.300, Expected=4298.700\n",
      ">Predicted=4298.700, Expected=4297.500\n",
      ">Predicted=4297.500, Expected=4297.500\n",
      ">Predicted=4297.500, Expected=4294.900\n",
      ">Predicted=4294.900, Expected=4320.000\n",
      ">Predicted=4320.000, Expected=3625.400\n",
      ">Predicted=3625.400, Expected=3607.700\n",
      ">Predicted=3607.700, Expected=3977.100\n",
      ">Predicted=3977.100, Expected=4015.800\n",
      ">Predicted=4015.800, Expected=4176.900\n",
      ">Predicted=4176.900, Expected=4086.500\n",
      ">Predicted=4086.500, Expected=4320.200\n",
      ">Predicted=4320.200, Expected=4892.100\n",
      ">Predicted=4892.100, Expected=4547.100\n",
      ">Predicted=4547.100, Expected=4443.800\n",
      ">Predicted=4443.800, Expected=4636.100\n",
      ">Predicted=4636.100, Expected=4403.200\n",
      ">Predicted=4403.200, Expected=4349.900\n",
      ">Predicted=4349.900, Expected=4376.600\n",
      ">Predicted=4376.600, Expected=4370.000\n",
      ">Predicted=4370.000, Expected=4335.400\n",
      ">Predicted=4335.400, Expected=4355.800\n",
      ">Predicted=4355.800, Expected=4352.300\n",
      ">Predicted=4352.300, Expected=4352.300\n",
      ">Predicted=4352.300, Expected=4362.200\n",
      ">Predicted=4362.200, Expected=4403.800\n",
      ">Predicted=4403.800, Expected=4475.200\n",
      ">Predicted=4475.200, Expected=4533.900\n",
      ">Predicted=4533.900, Expected=4564.100\n",
      ">Predicted=4564.100, Expected=4561.900\n",
      ">Predicted=4561.900, Expected=4561.900\n",
      ">Predicted=4561.900, Expected=4651.800\n",
      ">Predicted=4651.800, Expected=4696.500\n",
      ">Predicted=4696.500, Expected=4727.900\n",
      ">Predicted=4727.900, Expected=4693.700\n",
      ">Predicted=4693.700, Expected=4751.700\n",
      ">Predicted=4751.700, Expected=3564.600\n",
      ">Predicted=3564.600, Expected=3605.000\n",
      ">Predicted=3605.000, Expected=3977.100\n",
      ">Predicted=3977.100, Expected=4011.800\n",
      ">Predicted=4011.800, Expected=4134.100\n",
      ">Predicted=4134.100, Expected=4112.000\n",
      ">Predicted=4112.000, Expected=4351.700\n",
      ">Predicted=4351.700, Expected=4894.100\n",
      ">Predicted=4894.100, Expected=4571.200\n",
      ">Predicted=4571.200, Expected=4455.900\n",
      ">Predicted=4455.900, Expected=4636.100\n",
      ">Predicted=4636.100, Expected=4427.900\n",
      ">Predicted=4427.900, Expected=4692.700\n",
      ">Predicted=4692.700, Expected=4668.100\n",
      ">Predicted=4668.100, Expected=4672.600\n",
      ">Predicted=4672.600, Expected=4672.600\n",
      ">Predicted=4672.600, Expected=4763.900\n",
      ">Predicted=4763.900, Expected=4793.000\n",
      ">Predicted=4793.000, Expected=4667.900\n",
      ">Predicted=4667.900, Expected=4700.900\n",
      ">Predicted=4700.900, Expected=4666.100\n",
      ">Predicted=4666.100, Expected=4660.400\n",
      ">Predicted=4660.400, Expected=4660.400\n",
      ">Predicted=4660.400, Expected=4585.500\n",
      ">Predicted=4585.500, Expected=4597.600\n",
      ">Predicted=4597.600, Expected=4655.500\n",
      ">Predicted=4655.500, Expected=4570.900\n",
      ">Predicted=4570.900, Expected=4614.300\n",
      ">Predicted=4614.300, Expected=4611.100\n",
      ">Predicted=4611.100, Expected=4611.100\n",
      ">Predicted=4611.100, Expected=4640.600\n",
      ">Predicted=4640.600, Expected=3548.900\n",
      ">Predicted=3548.900, Expected=3605.000\n",
      ">Predicted=3605.000, Expected=4004.700\n",
      ">Predicted=4004.700, Expected=4107.200\n",
      ">Predicted=4107.200, Expected=4131.600\n",
      ">Predicted=4131.600, Expected=4156.400\n",
      ">Predicted=4156.400, Expected=4349.200\n",
      ">Predicted=4349.200, Expected=4890.500\n",
      ">Predicted=4890.500, Expected=4585.200\n",
      ">Predicted=4585.200, Expected=4516.500\n",
      ">Predicted=4516.500, Expected=4436.800\n",
      ">Predicted=4436.800, Expected=4346.100\n",
      ">Predicted=4346.100, Expected=4579.200\n",
      ">Predicted=4579.200, Expected=4613.700\n",
      ">Predicted=4613.700, Expected=4616.200\n",
      ">Predicted=4616.200, Expected=4626.100\n",
      ">Predicted=4626.100, Expected=4592.200\n",
      ">Predicted=4592.200, Expected=4609.000\n",
      ">Predicted=4609.000, Expected=4608.700\n",
      ">Predicted=4608.700, Expected=4608.700\n",
      ">Predicted=4608.700, Expected=4512.700\n",
      ">Predicted=4512.700, Expected=4485.300\n",
      ">Predicted=4485.300, Expected=4410.500\n",
      ">Predicted=4410.500, Expected=4421.200\n",
      ">Predicted=4421.200, Expected=4402.900\n",
      ">Predicted=4402.900, Expected=4403.100\n",
      ">Predicted=4403.100, Expected=4403.100\n",
      ">Predicted=4403.100, Expected=4457.600\n",
      ">Predicted=4457.600, Expected=4490.500\n",
      ">Predicted=4490.500, Expected=4458.700\n",
      ">Predicted=4458.700, Expected=3550.700\n",
      ">Predicted=3550.700, Expected=3603.100\n",
      ">Predicted=3603.100, Expected=3890.100\n",
      ">Predicted=3890.100, Expected=4118.100\n",
      ">Predicted=4118.100, Expected=4133.300\n",
      ">Predicted=4133.300, Expected=4221.500\n",
      ">Predicted=4221.500, Expected=4341.100\n",
      ">Predicted=4341.100, Expected=4869.100\n",
      ">Predicted=4869.100, Expected=4586.400\n",
      ">Predicted=4586.400, Expected=4519.300\n",
      ">Predicted=4519.300, Expected=4473.600\n",
      ">Predicted=4473.600, Expected=4343.300\n",
      ">Predicted=4343.300, Expected=4460.700\n",
      ">Predicted=4460.700, Expected=4473.400\n",
      ">Predicted=4473.400, Expected=4493.300\n",
      ">Predicted=4493.300, Expected=4478.600\n",
      ">Predicted=4478.600, Expected=4476.700\n",
      "RMSE: 144.876\n"
     ]
    }
   ],
   "source": [
    "# walk-forward validation\n",
    "history = [x for x in train]\n",
    "predictions = list()\n",
    "for i in range(len(test)):\n",
    "    yhat = history[-1]\n",
    "    predictions.append(yhat)\n",
    "# observation\n",
    "    obs = test[i]\n",
    "    history.append(obs)\n",
    "    print('>Predicted=%.3f, Expected=%.3f' % (yhat, obs))\n",
    "# report performance\n",
    "rmse = sqrt(mean_squared_error(test, predictions))\n",
    "print('RMSE: %.3f' % rmse)"
   ]
  },
  {
   "cell_type": "markdown",
   "id": "8b1bf3ca",
   "metadata": {},
   "source": [
    "### ARIMA Hyperparameters"
   ]
  },
  {
   "cell_type": "code",
   "execution_count": 65,
   "id": "c91f3a37",
   "metadata": {},
   "outputs": [],
   "source": [
    "import warnings\n",
    "from pandas import read_csv\n",
    "from statsmodels.tsa.arima_model import ARIMA\n",
    "from sklearn.metrics import mean_squared_error\n",
    "from math import sqrt\n",
    "\n",
    "\n",
    "# evaluate an ARIMA model for a given order (p,d,q) and return RMSE\n",
    "def evaluate_arima_model(X, arima_order):\n",
    "# prepare training dataset\n",
    "    X = X.astype('float32')\n",
    "    train_size = int(len(X) * 0.50)\n",
    "    train, test = X[0:train_size], X[train_size:]\n",
    "    history = [x for x in train]\n",
    "# make predictions\n",
    "    predictions = list()\n",
    "    for t in range(len(test)):\n",
    "        model = ARIMA(history, order=arima_order)\n",
    "# model_fit = model.fit(disp=0)\n",
    "        model_fit = model.fit(disp=0)\n",
    "        yhat = model_fit.forecast()[0]\n",
    "        predictions.append(yhat)\n",
    "        history.append(test[t])\n",
    "# calculate out of sample error\n",
    "    rmse = sqrt(mean_squared_error(test, predictions))\n",
    "    return rmse"
   ]
  },
  {
   "cell_type": "markdown",
   "id": "2fb8ad51",
   "metadata": {},
   "source": [
    "### Grid search for p,d,q values"
   ]
  },
  {
   "cell_type": "code",
   "execution_count": 66,
   "id": "e3d61106",
   "metadata": {},
   "outputs": [],
   "source": [
    "def evaluate_models(dataset, p_values, d_values, q_values):\n",
    "    dataset = dataset.astype('float32')\n",
    "    best_score, best_cfg = float('inf'), None\n",
    "    for p in p_values:\n",
    "        for d in d_values:\n",
    "            for q in q_values:\n",
    "                order = (p,d,q)\n",
    "                try:\n",
    "                    rmse = evaluate_arima_model(train, order)\n",
    "                    if rmse < best_score:\n",
    "                        best_score, best_cfg = rmse, order\n",
    "                    print('ARIMA%s RMSE=%.3f' % (order,rmse))\n",
    "                except:\n",
    "                    continue\n",
    "    print('Best ARIMA%s RMSE=%.3f' % (best_cfg, best_score))"
   ]
  },
  {
   "cell_type": "code",
   "execution_count": 67,
   "id": "220622fd",
   "metadata": {},
   "outputs": [
    {
     "name": "stdout",
     "output_type": "stream",
     "text": [
      "ARIMA(0, 0, 0) RMSE=810.482\n",
      "ARIMA(0, 0, 1) RMSE=453.701\n",
      "ARIMA(0, 1, 0) RMSE=144.915\n",
      "ARIMA(0, 1, 1) RMSE=145.363\n",
      "ARIMA(0, 1, 2) RMSE=144.489\n",
      "ARIMA(0, 2, 0) RMSE=203.391\n",
      "ARIMA(0, 2, 1) RMSE=145.062\n",
      "ARIMA(0, 2, 2) RMSE=145.507\n",
      "ARIMA(1, 0, 0) RMSE=146.265\n",
      "ARIMA(1, 0, 1) RMSE=146.456\n",
      "ARIMA(1, 0, 2) RMSE=145.310\n",
      "ARIMA(1, 1, 0) RMSE=145.253\n",
      "ARIMA(1, 1, 1) RMSE=140.273\n",
      "ARIMA(1, 1, 2) RMSE=139.461\n",
      "ARIMA(1, 2, 0) RMSE=184.219\n",
      "ARIMA(2, 0, 0) RMSE=146.439\n",
      "ARIMA(2, 0, 1) RMSE=376.856\n",
      "ARIMA(2, 0, 2) RMSE=139.876\n",
      "ARIMA(2, 1, 0) RMSE=144.426\n",
      "ARIMA(2, 1, 1) RMSE=139.553\n",
      "ARIMA(2, 2, 0) RMSE=166.097\n",
      "Best ARIMA(1, 1, 2) RMSE=139.461\n"
     ]
    }
   ],
   "source": [
    "# load dataset\n",
    "train = read_csv('dataset.csv', header=None, index_col=0, parse_dates=True, squeeze=True)\n",
    "# evaluate parameters\n",
    "p_values = range(0, 3)\n",
    "d_values = range(0, 3)\n",
    "q_values = range(0, 3)\n",
    "warnings.filterwarnings(\"ignore\")\n",
    "evaluate_models(train.values, p_values, d_values, q_values)"
   ]
  },
  {
   "cell_type": "markdown",
   "id": "604092fe",
   "metadata": {},
   "source": [
    "### We get Least RMSE value with (p=1,d=1,q=2) combination"
   ]
  },
  {
   "cell_type": "code",
   "execution_count": 85,
   "id": "3cf64d59",
   "metadata": {},
   "outputs": [
    {
     "data": {
      "image/png": "[encoded data removed]",
      "text/plain": [
       "<Figure size 432x288 with 1 Axes>"
      ]
     },
     "metadata": {
      "needs_background": "light"
     },
     "output_type": "display_data"
    }
   ],
   "source": [
    "model = ARIMA(X, order=(1,1,2))\n",
    "model_fit = model.fit()\n",
    "forecast=model_fit.forecast()\n",
    "model_fit.plot_predict(1, 2182)\n",
    "plt.show()"
   ]
  },
  {
   "cell_type": "code",
   "execution_count": 86,
   "id": "66bcada3",
   "metadata": {},
   "outputs": [
    {
     "data": {
      "image/png": "[encoded data removed]",
      "text/plain": [
       "<Figure size 432x288 with 1 Axes>"
      ]
     },
     "metadata": {
      "needs_background": "light"
     },
     "output_type": "display_data"
    }
   ],
   "source": [
    "model = ARIMA(X, order=(1,1,2))\n",
    "model_fit = model.fit()\n",
    "forecast=model_fit.forecast()\n",
    "model_fit.plot_predict(1000, 2182)\n",
    "plt.show()"
   ]
  },
  {
   "cell_type": "code",
   "execution_count": 87,
   "id": "e41aec63",
   "metadata": {},
   "outputs": [
    {
     "data": {
      "image/png": "[encoded data removed]",
      "text/plain": [
       "<Figure size 432x288 with 1 Axes>"
      ]
     },
     "metadata": {
      "needs_background": "light"
     },
     "output_type": "display_data"
    }
   ],
   "source": [
    "model = ARIMA(X, order=(1,1,2))\n",
    "model_fit = model.fit()\n",
    "forecast=model_fit.forecast()\n",
    "model_fit.plot_predict(1500, 2182)\n",
    "plt.show()"
   ]
  },
  {
   "cell_type": "code",
   "execution_count": 90,
   "id": "ce85c213",
   "metadata": {},
   "outputs": [
    {
     "data": {
      "text/plain": [
       "(430, 1)"
      ]
     },
     "execution_count": 90,
     "metadata": {},
     "output_type": "execute_result"
    }
   ],
   "source": [
    "validation.shape"
   ]
  },
  {
   "cell_type": "code",
   "execution_count": null,
   "id": "bb7eb6bc",
   "metadata": {},
   "outputs": [],
   "source": []
  }
 ],
 "metadata": {
  "kernelspec": {
   "display_name": "Python 3",
   "language": "python",
   "name": "python3"
  },
  "language_info": {
   "codemirror_mode": {
    "name": "ipython",
    "version": 3
   },
   "file_extension": ".py",
   "mimetype": "text/x-python",
   "name": "python",
   "nbconvert_exporter": "python",
   "pygments_lexer": "ipython3",
   "version": "3.8.8"
  }
 },
 "nbformat": 4,
 "nbformat_minor": 5
}
